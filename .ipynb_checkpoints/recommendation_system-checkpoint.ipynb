{
 "worksheets": [
  {
   "cells": [
    {
     "cell_type": "code",
     "execution_count": null,
     "metadata": {},
     "outputs": [
      {
       "stream": "stdout",
       "output_type": "stream",
       "text": [
        "/usr/lib/spark/spark-2.0.2-bin-hadoop2.7\n"
       ]
      }
     ],
     "input": [
      "print SPARK_HOME"
     ],
     "language": "python",
     "prompt_number": 1
    },
    {
     "cell_type": "code",
     "execution_count": null,
     "metadata": {},
     "outputs": [],
     "input": [
      "from pyspark import  SparkContext,SparkConf\n",
      "sc = SparkContext('local','recommend')"
     ],
     "language": "python",
     "prompt_number": 2
    },
    {
     "cell_type": "code",
     "execution_count": null,
     "metadata": {},
     "outputs": [
      {
       "stream": "stdout",
       "output_type": "stream",
       "text": [
        "196\t242\t3\t881250949\n"
       ]
      },
      {
       "prompt_number": 4,
       "metadata": {},
       "output_type": "pyout",
       "text": [
        "[[u'196', u'242', u'3', u'881250949'],\n",
        " [u'186', u'302', u'3', u'891717742'],\n",
        " [u'22', u'377', u'1', u'878887116'],\n",
        " [u'244', u'51', u'2', u'880606923'],\n",
        " [u'166', u'346', u'1', u'886397596']]"
       ]
      }
     ],
     "input": [
      "rawData = sc.textFile(\"/home/zz/Downloads/ml-100k/u.data\")\n",
      "print rawData.first()\n",
      "rawRatings = rawData.map(lambda x: x.split('\\t'))\n",
      "rawRatings.take(5)\n",
      "#数据分别是userId，itemId，rating和timestamp"
     ],
     "language": "python",
     "prompt_number": 4
    },
    {
     "cell_type": "code",
     "execution_count": null,
     "metadata": {},
     "outputs": [
      {
       "stream": "stdout",
       "output_type": "stream",
       "text": [
        "[Rating(user=196, product=242, rating=3.0), Rating(user=186, product=302, rating=3.0), Rating(user=22, product=377, rating=1.0), Rating(user=244, product=51, rating=2.0), Rating(user=166, product=346, rating=1.0)]\n"
       ]
      }
     ],
     "input": [
      "from pyspark.mllib.recommendation import Rating, ALS\n",
      "ratings = rawRatings.map(lambda x: Rating(int(x[0]),int(x[1]),float(x[2])))\n",
      "print ratings.take(5)"
     ],
     "language": "python",
     "prompt_number": 5
    },
    {
     "cell_type": "code",
     "execution_count": null,
     "metadata": {},
     "outputs": [
      {
       "stream": "stdout",
       "output_type": "stream",
       "text": [
        "[(1, array('d', [-0.30207639932632446, 0.18135130405426025, -0.2504510283470154, -0.1084538921713829, 0.4093126058578491, 0.06486505270004272, 0.5236244797706604, 0.176885724067688, 0.3606732487678528, 0.34701263904571533, -0.39664554595947266, -0.13027583062648773, 0.6384175419807434, 0.4696153402328491, 0.22403323650360107, -0.03564932197332382, -0.2621699571609497, -0.6977128386497498, -0.02657998725771904, 0.15073134005069733, 0.5174659490585327, -0.13056273758411407, 0.3055573105812073, -0.22510689496994019, 0.20931318402290344, 0.18482886254787445, -0.33881253004074097, 0.2676282823085785, -0.29334762692451477, -0.11256971210241318, -0.017506059259176254, 0.294783353805542, 0.4020189046859741, 0.7625535130500793, 0.39553120732307434, 0.3536478877067566, -0.13494671881198883, -0.18959075212478638, -0.20116867125034332, 0.2762678861618042, 0.33605074882507324, 0.2969842553138733, 0.09482284635305405, -0.6450276374816895, -0.06555004417896271, 0.10401608794927597, -0.018975764513015747, -0.045596182346343994, 0.867249608039856, -0.2068800926208496])), (2, array('d', [0.28648242354393005, 0.5112724900245667, -0.11930486559867859, -0.003474785014986992, 0.16620273888111115, -0.10015503317117691, -0.22365447878837585, 0.3306743800640106, -0.3721676766872406, -0.08578569442033768, -0.8180220723152161, -0.4816560745239258, 0.46925264596939087, -0.16711868345737457, -0.4441637694835663, -0.26907962560653687, 0.49880897998809814, -0.2214033603668213, -0.5371217727661133, -0.3258799612522125, 0.3440622389316559, -0.15032044053077698, 0.3970402479171753, -0.5224765539169312, 0.022865381091833115, 0.029701776802539825, -0.06968844681978226, 0.6158766150474548, -0.4025731384754181, -0.16289430856704712, -0.6752049922943115, 0.7295175194740295, 0.2647884786128998, 0.16258566081523895, 0.28786101937294006, -0.016904644668102264, 0.13121700286865234, -0.056031398475170135, 0.1983031928539276, 0.11699365079402924, 0.1643105447292328, -0.5556676983833313, 0.6589341759681702, -0.10151084512472153, -0.5179516673088074, -0.4186100959777832, 0.2993457019329071, 0.3992043137550354, -0.2718951106071472, -0.10442087054252625]))]\n"
       ]
      }
     ],
     "input": [
      "model = ALS.train(ratings, 50, 10, 0.01)\n",
      "userFeatures = model.userFeatures()\n",
      "print userFeatures.take(2)"
     ],
     "language": "python",
     "prompt_number": 6
    },
    {
     "cell_type": "code",
     "execution_count": null,
     "metadata": {},
     "outputs": [
      {
       "stream": "stdout",
       "output_type": "stream",
       "text": [
        "943\n",
        "1682"
       ]
      },
      {
       "stream": "stdout",
       "output_type": "stream",
       "text": [
        "\n"
       ]
      }
     ],
     "input": [
      "print model.userFeatures().count()\n",
      "print model.productFeatures().count()"
     ],
     "language": "python",
     "prompt_number": 7
    },
    {
     "cell_type": "code",
     "execution_count": null,
     "metadata": {},
     "outputs": [
      {
       "stream": "stdout",
       "output_type": "stream",
       "text": [
        "50\n",
        "3.79490065785"
       ]
      },
      {
       "stream": "stdout",
       "output_type": "stream",
       "text": [
        "\n"
       ]
      }
     ],
     "input": [
      "print len(userFeatures.first()[1])\n",
      "predictRating = model.predict(789,123)\n",
      "print predictRating"
     ],
     "language": "python",
     "prompt_number": 8
    },
    {
     "cell_type": "code",
     "execution_count": null,
     "metadata": {},
     "outputs": [
      {
       "stream": "stdout",
       "output_type": "stream",
       "text": [
        "给用户userId推荐其喜欢的item：\n",
        "Rating(user=789, product=675, rating=5.539017605715016)\n",
        "Rating(user=789, product=199, rating=5.408184840384295)\n",
        "Rating(user=789, product=81, rating=5.336872483780208)\n",
        "Rating(user=789, product=32, rating=5.256442341300425)\n",
        "Rating(user=789, product=661, rating=5.253911724056185)\n",
        "Rating(user=789, product=511, rating=5.196810808350197)\n",
        "Rating(user=789, product=653, rating=5.1889774986901385)\n",
        "Rating(user=789, product=663, rating=5.135297855002313)\n",
        "Rating(user=789, product=671, rating=5.113592149773297)\n",
        "Rating(user=789, product=517, rating=5.023839224292913)\n"
       ]
      }
     ],
     "input": [
      "topKRecs = model.recommendProducts(789,10)\n",
      "print '给用户userId推荐其喜欢的item：'\n",
      "for rec in topKRecs:\n",
      "    print rec"
     ],
     "language": "python",
     "prompt_number": 9
    },
    {
     "cell_type": "code",
     "execution_count": null,
     "metadata": {},
     "outputs": [],
     "input": [
      ""
     ],
     "language": "python"
    },
    {
     "cell_type": "code",
     "execution_count": null,
     "metadata": {},
     "outputs": [],
     "input": [
      ""
     ],
     "language": "python"
    },
    {
     "cell_type": "code",
     "execution_count": null,
     "metadata": {},
     "outputs": [],
     "input": [
      ""
     ],
     "language": "python"
    },
    {
     "cell_type": "code",
     "execution_count": null,
     "metadata": {},
     "outputs": [],
     "input": [
      ""
     ],
     "language": "python"
    }
   ]
  }
 ],
 "cells": [],
 "metadata": {
  "name": "",
  "signature": "sha256:1dca09520d66a081a95dfd55d9f25dc2dff88bc6ea31f7708e12634407aa2e76"
 },
 "nbformat": 4,
 "nbformat_minor": 0
}