{
 "metadata": {
  "name": "",
  "signature": "sha256:87303bf581b7fe3b2d30172a686d267e3c27fad3139fa00e88ab903911a5cdf0"
 },
 "nbformat": 3,
 "nbformat_minor": 0,
 "worksheets": [
  {
   "cells": [
    {
     "cell_type": "code",
     "collapsed": false,
     "input": [
      "from pyspark import SparkContext,SparkConf\n",
      "sc = SparkContext('local','cluster')"
     ],
     "language": "python",
     "metadata": {},
     "outputs": [],
     "prompt_number": 1
    },
    {
     "cell_type": "code",
     "collapsed": false,
     "input": [
      "movies = sc.textFile('/home/zz/Downloads/ml-100k/u.item')\n",
      "print movies.take(1)"
     ],
     "language": "python",
     "metadata": {},
     "outputs": [
      {
       "output_type": "stream",
       "stream": "stdout",
       "text": [
        "[u'1|Toy Story (1995)|01-Jan-1995||http://us.imdb.com/M/title-exact?Toy%20Story%20(1995)|0|0|0|1|1|1|0|0|0|0|0|0|0|0|0|0|0|0|0']\n"
       ]
      }
     ],
     "prompt_number": 2
    },
    {
     "cell_type": "code",
     "collapsed": false,
     "input": [
      "genres = sc.textFile('/home/zz/Downloads/ml-100k/u.genre')\n",
      "print genres.take(5)\n",
      "\n",
      "for line in genres.take(5):\n",
      "    print line\n"
     ],
     "language": "python",
     "metadata": {},
     "outputs": [
      {
       "output_type": "stream",
       "stream": "stdout",
       "text": [
        "[u'unknown|0', u'Action|1', u'Adventure|2', u'Animation|3', u\"Children's|4\"]\n",
        "unknown|0"
       ]
      },
      {
       "output_type": "stream",
       "stream": "stdout",
       "text": [
        "\n",
        "Action|1\n",
        "Adventure|2\n",
        "Animation|3\n",
        "Children's|4\n"
       ]
      }
     ],
     "prompt_number": 3
    },
    {
     "cell_type": "code",
     "collapsed": false,
     "input": [
      "#\u4e3a\u7535\u5f71\u9898\u6750\u7f16\u7801\n",
      "genre_map = genres.filter(lambda x: len(x) > 0).\\\n",
      "                   map(lambda line : line.split('|')).\\\n",
      "                   map(lambda x:(x[1],x[0])).collectAsMap()\n",
      "print '\u6784\u9020\u51fa\u7684\u7535\u5f71\u9898\u6750\u7684\u7f16\u7801\u5b57\u5178:',genre_map"
     ],
     "language": "python",
     "metadata": {},
     "outputs": [
      {
       "output_type": "stream",
       "stream": "stdout",
       "text": [
        "\u6784\u9020\u51fa\u7684\u7535\u5f71\u9898\u6750\u7684\u7f16\u7801\u5b57\u5178: {u'11': u'Horror', u'10': u'Film-Noir', u'13': u'Mystery', u'12': u'Musical', u'15': u'Sci-Fi', u'14': u'Romance', u'17': u'War', u'16': u'Thriller', u'18': u'Western', u'1': u'Action', u'0': u'unknown', u'3': u'Animation', u'2': u'Adventure', u'5': u'Comedy', u'4': u\"Children's\", u'7': u'Documentary', u'6': u'Crime', u'9': u'Fantasy', u'8': u'Drama'}\n"
       ]
      }
     ],
     "prompt_number": 4
    },
    {
     "cell_type": "code",
     "collapsed": false,
     "input": [
      "movies=sc.textFile('/home/zz/Downloads/ml-100k/u.item')\n",
      "print '\u7535\u5f71\u6570\u636e\u96c6\u7684\u7b2c\u4e00\u6761\u6570\u636e:',movies.first()\n",
      "\n",
      "#\u67e5\u770b\u7535\u5f71\u7684\u6807\u9898\n",
      "movies_title  = movies.map(lambda x: x.split('|')).map(lambda x: x[1])\n",
      "print '\u7535\u5f71\u6807\u9898:',movies_title.take(5)\n",
      "\n",
      "#\u67e5\u770b\u7535\u5f71\u7684\u9898\u6750, 0\u8868\u793a\u4e0d\u5c5e\u4e8e\u8be5\u9898\u6750, 1\u8868\u793a\u5c5e\u4e8e\u8be5\u9898\u6750\n",
      "movies_genre = movies.map(lambda x: x.split('|')).map(lambda x: x[5:])\n",
      "print '\u7535\u5f71\u7684\u9898\u6750:'\n",
      "print movies_genre.take(5)"
     ],
     "language": "python",
     "metadata": {},
     "outputs": [
      {
       "output_type": "stream",
       "stream": "stdout",
       "text": [
        "\u7535\u5f71\u6570\u636e\u96c6\u7684\u7b2c\u4e00\u6761\u6570\u636e: "
       ]
      },
      {
       "output_type": "stream",
       "stream": "stdout",
       "text": [
        "1|Toy Story (1995)|01-Jan-1995||http://us.imdb.com/M/title-exact?Toy%20Story%20(1995)|0|0|0|1|1|1|0|0|0|0|0|0|0|0|0|0|0|0|0\n",
        "\u7535\u5f71\u6807\u9898: "
       ]
      },
      {
       "output_type": "stream",
       "stream": "stdout",
       "text": [
        "[u'Toy Story (1995)', u'GoldenEye (1995)', u'Four Rooms (1995)', u'Get Shorty (1995)', u'Copycat (1995)']\n",
        "\u7535\u5f71\u7684\u9898\u6750:\n",
        "[[u'0', u'0', u'0', u'1', u'1', u'1', u'0', u'0', u'0', u'0', u'0', u'0', u'0', u'0', u'0', u'0', u'0', u'0', u'0'], [u'0', u'1', u'1', u'0', u'0', u'0', u'0', u'0', u'0', u'0', u'0', u'0', u'0', u'0', u'0', u'0', u'1', u'0', u'0'], [u'0', u'0', u'0', u'0', u'0', u'0', u'0', u'0', u'0', u'0', u'0', u'0', u'0', u'0', u'0', u'0', u'1', u'0', u'0'], [u'0', u'1', u'0', u'0', u'0', u'1', u'0', u'0', u'1', u'0', u'0', u'0', u'0', u'0', u'0', u'0', u'0', u'0', u'0'], [u'0', u'0', u'0', u'0', u'0', u'0', u'1', u'0', u'1', u'0', u'0', u'0', u'0', u'0', u'0', u'0', u'1', u'0', u'0']]"
       ]
      },
      {
       "output_type": "stream",
       "stream": "stdout",
       "text": [
        "\n"
       ]
      }
     ],
     "prompt_number": 5
    },
    {
     "cell_type": "code",
     "collapsed": false,
     "input": [
      "def func(rdd):\n",
      "    genres = rdd[5:]     #\u63d0\u53d6\u9898\u6750\u7279\u5f81\n",
      "    genres_assigned = zip(genres, range(len(genres)))\n",
      "    index = []           #\u5b58\u50a8\u9898\u6750\u7279\u5f81\u6570\u503c\u4e3a1\u7684\u7279\u5f81\u7d22\u5f15\u53f7\n",
      "    for genre,idx in genres_assigned:\n",
      "        if genre=='1':\n",
      "            index.append(idx)\n",
      "    index_val = [genre_map[str(i)] for i in index]   #\u6839\u636e\u7f16\u7801\u5b57\u5178\u627e\u51fa\u7d22\u5f15\u7684\u76f8\u5e94\u9898\u6750\u540d\n",
      "    index_val_str = ','.join(index_val)\n",
      "    return (int(rdd[0]),rdd[1]+','+index_val_str)\n",
      "titles_and_genres = movies.map(lambda x: x.split('|')).map(lambda x:func(x))\n",
      "print '\u524d5\u90e8\u7535\u5f71\u7684\u6807\u9898\u548c\u76f8\u5e94\u7684\u9898\u6750\u7c7b\u578b:',titles_and_genres.take(5)"
     ],
     "language": "python",
     "metadata": {},
     "outputs": [
      {
       "output_type": "stream",
       "stream": "stdout",
       "text": [
        "\u524d5\u90e8\u7535\u5f71\u7684\u6807\u9898\u548c\u76f8\u5e94\u7684\u9898\u6750\u7c7b\u578b: "
       ]
      },
      {
       "output_type": "stream",
       "stream": "stdout",
       "text": [
        "[(1, u\"Toy Story (1995),Animation,Children's,Comedy\"), (2, u'GoldenEye (1995),Action,Adventure,Thriller'), (3, u'Four Rooms (1995),Thriller'), (4, u'Get Shorty (1995),Action,Comedy,Drama'), (5, u'Copycat (1995),Crime,Drama,Thriller')]\n"
       ]
      }
     ],
     "prompt_number": 6
    },
    {
     "cell_type": "code",
     "collapsed": false,
     "input": [
      "from pyspark.mllib.recommendation import ALS\n",
      "from pyspark.mllib.recommendation import Rating\n",
      "\n",
      "raw_data = sc.textFile(\"/home/zz/Downloads/ml-100k/u.data\")\n",
      "#\u6570\u636e\u96c6u.data\u4e2d\u56db\u4e2a\u5b57\u6bb5\u5206\u522b\u8868\u793a\u7528\u6237ID, \u7535\u5f71ID, \u8bc4\u5206, \u65f6\u95f4\u6233\n",
      "print 'raw data sample:', raw_data.map(lambda x : x.split('\\t')).take(3)\n",
      "\n",
      "raw_ratings = raw_data.map(lambda x:x.split('\\t')[:3])\n",
      "ratings = raw_ratings.map(lambda x: Rating(x[0], x[1], x[2]))\n",
      "ratings.cache()\n",
      "print 'rating data sample:',ratings.take(3)\n",
      "\n",
      "#\u8bad\u7ec3\u63a8\u8350\u6a21\u578b\n",
      "als_model = ALS.train(ratings,50,5,0.1)"
     ],
     "language": "python",
     "metadata": {},
     "outputs": [
      {
       "output_type": "stream",
       "stream": "stdout",
       "text": [
        "raw data sample: "
       ]
      },
      {
       "output_type": "stream",
       "stream": "stdout",
       "text": [
        "[[u'196', u'242', u'3', u'881250949'], [u'186', u'302', u'3', u'891717742'], [u'22', u'377', u'1', u'878887116']]\n",
        "rating data sample: "
       ]
      },
      {
       "output_type": "stream",
       "stream": "stdout",
       "text": [
        "[Rating(user=196, product=242, rating=3.0), Rating(user=186, product=302, rating=3.0), Rating(user=22, product=377, rating=1.0)]\n"
       ]
      }
     ],
     "prompt_number": 7
    },
    {
     "cell_type": "code",
     "collapsed": false,
     "input": [
      "from pyspark.mllib.linalg import Vectors\n",
      "\n",
      "print 'productFeatures\u7684\u7b2c\u4e00\u6761\u6570\u636e:',als_model.productFeatures().take(1)\n",
      "\n",
      "movie_factors = als_model.productFeatures().map(lambda (id,factor): (id,Vectors.dense(factor)))\n",
      "print 'movie_factors\u7684\u7b2c\u4e00\u6761\u6570\u636e:',movie_factors.first()\n",
      "movie_vectors = movie_factors.map(lambda (id,vec):vec)\n",
      "\n",
      "user_factors = als_model.userFeatures().map(lambda (id,factor):(id,Vectors.dense(factor)))\n",
      "print 'user_factors\u7684\u7b2c\u4e00\u6761\u6570\u636e:',user_factors.first()\n",
      "user_vectors = user_factors.map(lambda (id, vec):vec)"
     ],
     "language": "python",
     "metadata": {},
     "outputs": [
      {
       "output_type": "stream",
       "stream": "stdout",
       "text": [
        "productFeatures\u7684\u7b2c\u4e00\u6761\u6570\u636e: "
       ]
      },
      {
       "output_type": "stream",
       "stream": "stdout",
       "text": [
        "[(1, array('d', [0.023543119430541992, -0.20480220019817352, -0.08922214061021805, 0.05358576029539108, -0.44881242513656616, 0.12190500646829605, 0.08370830118656158, 0.19674023985862732, 0.27824151515960693, 0.3029714524745941, -0.6424914598464966, 0.08653318136930466, -0.28083106875419617, 0.2182021141052246, -0.3218345642089844, -0.1680600494146347, -0.03627842292189598, 0.20869633555412292, 0.6244699358940125, 0.33927905559539795, -0.3699014186859131, 0.26547762751579285, -0.24347004294395447, -0.12412865459918976, 0.10125169903039932, 0.11120748519897461, 0.4245424270629883, 0.13414216041564941, -0.04997631162405014, 0.14514197409152985, 0.26174625754356384, 0.10769350826740265, 0.07734901458024979, -0.24547109007835388, -0.23070645332336426, -0.041251808404922485, 0.23586726188659668, 0.45887628197669983, -0.0322500541806221, -0.6003934144973755, -0.2909843623638153, -0.22133834660053253, -0.5185880064964294, -0.30451300740242004, 0.07118751853704453, 0.23583170771598816, -0.13598588109016418, -0.38436976075172424, -0.32635730504989624, -0.0766124352812767]))]\n",
        "movie_factors\u7684\u7b2c\u4e00\u6761\u6570\u636e: "
       ]
      },
      {
       "output_type": "stream",
       "stream": "stdout",
       "text": [
        "(1, DenseVector([0.0235, -0.2048, -0.0892, 0.0536, -0.4488, 0.1219, 0.0837, 0.1967, 0.2782, 0.303, -0.6425, 0.0865, -0.2808, 0.2182, -0.3218, -0.1681, -0.0363, 0.2087, 0.6245, 0.3393, -0.3699, 0.2655, -0.2435, -0.1241, 0.1013, 0.1112, 0.4245, 0.1341, -0.05, 0.1451, 0.2617, 0.1077, 0.0773, -0.2455, -0.2307, -0.0413, 0.2359, 0.4589, -0.0323, -0.6004, -0.291, -0.2213, -0.5186, -0.3045, 0.0712, 0.2358, -0.136, -0.3844, -0.3264, -0.0766]))\n",
        "user_factors\u7684\u7b2c\u4e00\u6761\u6570\u636e: "
       ]
      },
      {
       "output_type": "stream",
       "stream": "stdout",
       "text": [
        "(1, DenseVector([-0.0489, -0.36, -0.3999, 0.1812, -0.254, 0.2077, 0.1946, 0.1379, 0.4889, 0.2385, -0.653, 0.1332, 0.0798, -0.2203, -0.509, 0.0566, 0.1537, -0.0689, 0.2833, 0.2056, -0.312, 0.1731, -0.2546, -0.1029, 0.0657, -0.1227, 0.4482, 0.25, -0.072, -0.0917, 0.53, 0.1266, -0.0653, -0.2332, -0.167, 0.4745, 0.245, 0.6108, 0.0817, -1.037, -0.3652, -0.0194, -0.4125, -0.5188, -0.0927, 0.1275, -0.8272, -0.4405, -0.5339, 0.0132]))\n"
       ]
      }
     ],
     "prompt_number": 8
    },
    {
     "cell_type": "code",
     "collapsed": false,
     "input": [
      "from pyspark.mllib.linalg.distributed import RowMatrix\n",
      "\n",
      "moive_matrix = RowMatrix(movie_vectors)\n",
      "user_matrix = RowMatrix(user_vectors)\n",
      "\n",
      "from pyspark.mllib.stat import MultivariateStatisticalSummary\n",
      "desc_moive_matrix = MultivariateStatisticalSummary(moive_matrix.rows)\n",
      "desc_user_matrix = MultivariateStatisticalSummary(user_matrix.rows)\n",
      "print 'Movie factors mean:',desc_moive_matrix.mean()\n",
      "print 'Movie factors variance:',desc_user_matrix.mean()\n",
      "print 'User factors mean:',desc_moive_matrix.variance()\n",
      "print 'User factors variance:',desc_user_matrix.variance()"
     ],
     "language": "python",
     "metadata": {},
     "outputs": [
      {
       "output_type": "stream",
       "stream": "stdout",
       "text": [
        "Movie factors mean: "
       ]
      },
      {
       "output_type": "stream",
       "stream": "stdout",
       "text": [
        "[-0.1082285  -0.13122221 -0.24309033  0.01242396 -0.21109344  0.13526321\n",
        " -0.12301907  0.00221007  0.25593166  0.23874786 -0.38554956  0.14871438\n",
        " -0.18981968 -0.06488137 -0.21588331  0.00636075  0.0019902   0.10015473\n",
        "  0.26994616  0.19778467 -0.17751675  0.1915558  -0.17014807  0.021627\n",
        " -0.03803112  0.01862538  0.17961852  0.12130649  0.05843028  0.09239128\n",
        "  0.19361213  0.04769351  0.00090648 -0.13198887 -0.16044936  0.06792476\n",
        "  0.23343426  0.32900178  0.10053983 -0.43993167 -0.23798253 -0.15170676\n",
        " -0.44376803 -0.24701709 -0.00587463  0.03191059 -0.33789048 -0.29840906\n",
        " -0.21361687 -0.01032156]\n",
        "Movie factors variance: "
       ]
      },
      {
       "output_type": "stream",
       "stream": "stdout",
       "text": [
        "[ -8.10450131e-02  -1.85869563e-01  -3.68125806e-01   5.07965020e-02\n",
        "  -2.92111794e-01   1.46656090e-01  -1.63728034e-01   2.81628595e-02\n",
        "   3.61149441e-01   3.26225147e-01  -5.84041498e-01   2.13163113e-01\n",
        "  -2.80541748e-01  -5.16573977e-02  -3.47935653e-01   1.96477762e-02\n",
        "   1.71683898e-04   1.51410425e-01   4.53601144e-01   2.83557438e-01\n",
        "  -2.42004050e-01   2.65023358e-01  -2.75634827e-01   4.30375008e-02\n",
        "  -8.19208874e-02   4.94430964e-02   2.61210266e-01   1.78474906e-01\n",
        "   1.09002271e-01   1.33907295e-01   2.80702545e-01   8.00305720e-02\n",
        "   1.33625931e-02  -1.97850764e-01  -2.47446535e-01   1.66129669e-01\n",
        "   3.57725536e-01   5.48745416e-01   9.42166610e-02  -6.85819486e-01\n",
        "  -3.70135654e-01  -2.64719108e-01  -6.59296842e-01  -3.23341942e-01\n",
        "   1.42043160e-02   2.21237376e-03  -5.28932081e-01  -4.55696983e-01\n",
        "  -3.20163794e-01  -2.07911831e-02]\n",
        "User factors mean: "
       ]
      },
      {
       "output_type": "stream",
       "stream": "stdout",
       "text": [
        "[ 0.03216945  0.01940413  0.03153276  0.02814012  0.03204232  0.0311036\n",
        "  0.0302641   0.0259153   0.03630747  0.03252237  0.03490223  0.02119512\n",
        "  0.03789414  0.03052423  0.02906633  0.02486522  0.0208218   0.03089452\n",
        "  0.03211536  0.02807545  0.0308472   0.02670723  0.02671546  0.02731742\n",
        "  0.02308872  0.03069117  0.02776041  0.03130044  0.0372061   0.0290622\n",
        "  0.0317976   0.0284531   0.033426    0.02932081  0.03068008  0.03016186\n",
        "  0.02728394  0.03138233  0.03564079  0.04388163  0.03586231  0.02983586\n",
        "  0.03707216  0.08404317  0.02607969  0.03262591  0.04359513  0.03842022\n",
        "  0.02983283  0.02174561]\n",
        "User factors variance: "
       ]
      },
      {
       "output_type": "stream",
       "stream": "stdout",
       "text": [
        "[ 0.03759308  0.02090691  0.03876732  0.03306308  0.04340992  0.03745002\n",
        "  0.0420138   0.02803113  0.03825573  0.03452738  0.04001282  0.02677165\n",
        "  0.05496702  0.03480083  0.02765637  0.03770191  0.02602192  0.04313106\n",
        "  0.03614475  0.03634689  0.0416418   0.02997796  0.03065305  0.03167191\n",
        "  0.03082361  0.03444557  0.03205836  0.03831632  0.03588372  0.03004718\n",
        "  0.03606985  0.03322358  0.0393664   0.03865187  0.03913274  0.03033645\n",
        "  0.03846152  0.03359157  0.04070992  0.0312731   0.03842422  0.02866622\n",
        "  0.03456552  0.087771    0.03508067  0.0447744   0.03870731  0.03625735\n",
        "  0.02682755  0.02762219]\n"
       ]
      }
     ],
     "prompt_number": 9
    },
    {
     "cell_type": "code",
     "collapsed": false,
     "input": [
      "from pyspark.mllib.clustering import KMeans\n",
      "num_clusters = 5\n",
      "num_iterations = 20\n",
      "num_runs =3\n",
      "movie_cluster_model = KMeans.train(movie_vectors,num_clusters, num_iterations, num_runs)\n",
      "movie_cluster_model_coverged = KMeans.train(movie_vectors,num_clusters,100)\n",
      "user_cluster_model = KMeans.train(user_vectors,num_clusters,num_iterations, num_runs)\n",
      "predictions = movie_cluster_model.predict(movie_vectors)\n",
      "print '\u5bf9\u524d\u5341\u4e2a\u6837\u672c\u7684\u9884\u6d4b\u6807\u7b7e\u4e3a:'+\",\".join([str(i) for i in predictions.take(10)])"
     ],
     "language": "python",
     "metadata": {},
     "outputs": [
      {
       "output_type": "stream",
       "stream": "stdout",
       "text": [
        "\u5bf9\u524d\u5341\u4e2a\u6837\u672c\u7684\u9884\u6d4b\u6807\u7b7e\u4e3a:3,1,4,3,1,2,2,3,2,2\n"
       ]
      },
      {
       "output_type": "stream",
       "stream": "stderr",
       "text": [
        "/usr/lib/spark/spark-2.0.2-bin-hadoop2.7/python/pyspark/mllib/clustering.py:347: UserWarning: The param `runs` has no effect since Spark 2.0.0.\n",
        "  warnings.warn(\"The param `runs` has no effect since Spark 2.0.0.\")\n"
       ]
      }
     ],
     "prompt_number": 10
    },
    {
     "cell_type": "code",
     "collapsed": false,
     "input": [
      "print 'movie_factors\u7684\u7b2c\u4e00\u6761\u6570\u636e:',movie_factors.first()\n",
      "print '========================'\n",
      "print 'titles_and_genres\u7684\u7b2c\u4e00\u6761\u6570\u636e:',titles_and_genres.first()\n",
      "\n",
      "titles_factors = titles_and_genres.join(movie_factors)\n",
      "print '========================'\n",
      "print 'titles_factors\u7684\u7b2c\u4e00\u6761\u6570\u636e:',titles_factors.first()"
     ],
     "language": "python",
     "metadata": {},
     "outputs": [
      {
       "output_type": "stream",
       "stream": "stdout",
       "text": [
        "movie_factors\u7684\u7b2c\u4e00\u6761\u6570\u636e: "
       ]
      },
      {
       "output_type": "stream",
       "stream": "stdout",
       "text": [
        "(1, DenseVector([0.0235, -0.2048, -0.0892, 0.0536, -0.4488, 0.1219, 0.0837, 0.1967, 0.2782, 0.303, -0.6425, 0.0865, -0.2808, 0.2182, -0.3218, -0.1681, -0.0363, 0.2087, 0.6245, 0.3393, -0.3699, 0.2655, -0.2435, -0.1241, 0.1013, 0.1112, 0.4245, 0.1341, -0.05, 0.1451, 0.2617, 0.1077, 0.0773, -0.2455, -0.2307, -0.0413, 0.2359, 0.4589, -0.0323, -0.6004, -0.291, -0.2213, -0.5186, -0.3045, 0.0712, 0.2358, -0.136, -0.3844, -0.3264, -0.0766]))\n",
        "========================\n",
        "titles_and_genres\u7684\u7b2c\u4e00\u6761\u6570\u636e: "
       ]
      },
      {
       "output_type": "stream",
       "stream": "stdout",
       "text": [
        "(1, u\"Toy Story (1995),Animation,Children's,Comedy\")\n",
        "========================"
       ]
      },
      {
       "output_type": "stream",
       "stream": "stdout",
       "text": [
        "\n",
        "titles_factors\u7684\u7b2c\u4e00\u6761\u6570\u636e: "
       ]
      },
      {
       "output_type": "stream",
       "stream": "stdout",
       "text": [
        "(2, (u'GoldenEye (1995),Action,Adventure,Thriller', DenseVector([-0.132, -0.1994, -0.1228, 0.0422, -0.3684, 0.0516, 0.1254, -0.0119, 0.198, 0.1842, -0.5024, 0.2902, -0.3432, -0.0806, -0.3401, 0.2183, 0.0553, 0.0937, 0.5407, 0.2403, -0.2671, 0.3701, -0.1743, 0.0106, -0.1303, -0.1427, 0.1359, 0.2565, -0.0007, 0.1872, 0.3071, -0.0485, 0.0315, -0.2753, 0.1447, -0.0913, 0.2439, 0.4902, 0.09, -0.3041, -0.1115, -0.2102, -0.5671, -0.0719, 0.0171, 0.2399, -0.3548, -0.1416, -0.2621, 0.066])))\n"
       ]
      }
     ],
     "prompt_number": 12
    },
    {
     "cell_type": "code",
     "collapsed": false,
     "input": [
      "#\u5bf9\u6bcf\u4e2a\u7535\u5f71\u8ba1\u7b97\u5176\u7279\u5f81\u5411\u91cf\u4e0e\u7c7b\u7c07\u4e2d\u5fc3\u5411\u91cf\u7684\u8ddd\u79bb\n",
      "def func2(rdd):\n",
      "    id,(name_genres,vec) = rdd\n",
      "    pred = movie_cluster_model.predict(vec)\n",
      "    cluster_center = movie_cluster_model.clusterCenters[pred]\n",
      "    cluster_center_vec = Vectors.dense(cluster_center)\n",
      "    dist = vec.squared_distance(cluster_center_vec)\n",
      "    return u'\u7535\u5f71' + str(id) + u'\u7684\u9898\u6750\u7c7b\u578b\u662f' + name_genres + ',' + u'\u805a\u7c7b\u6a21\u578b\u9884\u6d4b\u7684\u6807\u7b7e\u662f' + str(pred)+ ',' + \\\n",
      "           u'\u4e0e\u805a\u7c7b\u6240\u5c5e\u7c7b\u522b\u4e2d\u5fc3\u7684\u8ddd\u79bb\u662f' + str(dist)\n",
      "\n",
      "movies_assigned = titles_factors.map(lambda x:func2(x))  \n",
      "for i in movies_assigned.take(5):\n",
      "    print i\n"
     ],
     "language": "python",
     "metadata": {},
     "outputs": [
      {
       "output_type": "stream",
       "stream": "stdout",
       "text": [
        "\u7535\u5f712\u7684\u9898\u6750\u7c7b\u578b\u662fGoldenEye (1995),Action,Adventure,Thriller,\u805a\u7c7b\u6a21\u578b\u9884\u6d4b\u7684\u6807\u7b7e\u662f1,\u4e0e\u805a\u7c7b\u6240\u5c5e\u7c7b\u522b\u4e2d\u5fc3\u7684\u8ddd\u79bb\u662f0.682644325169\n",
        "\u7535\u5f714\u7684\u9898\u6750\u7c7b\u578b\u662fGet Shorty (1995),Action,Comedy,Drama,\u805a\u7c7b\u6a21\u578b\u9884\u6d4b\u7684\u6807\u7b7e\u662f3,\u4e0e\u805a\u7c7b\u6240\u5c5e\u7c7b\u522b\u4e2d\u5fc3\u7684\u8ddd\u79bb\u662f0.820093528496\n",
        "\u7535\u5f716\u7684\u9898\u6750\u7c7b\u578b\u662fShanghai Triad (Yao a yao yao dao waipo qiao) (1995),Drama,\u805a\u7c7b\u6a21\u578b\u9884\u6d4b\u7684\u6807\u7b7e\u662f2,\u4e0e\u805a\u7c7b\u6240\u5c5e\u7c7b\u522b\u4e2d\u5fc3\u7684\u8ddd\u79bb\u662f2.45078512012\n",
        "\u7535\u5f718\u7684\u9898\u6750\u7c7b\u578b\u662fBabe (1995),Children's,Comedy,Drama,\u805a\u7c7b\u6a21\u578b\u9884\u6d4b\u7684\u6807\u7b7e\u662f3,\u4e0e\u805a\u7c7b\u6240\u5c5e\u7c7b\u522b\u4e2d\u5fc3\u7684\u8ddd\u79bb\u662f1.08676778977\n",
        "\u7535\u5f7110\u7684\u9898\u6750\u7c7b\u578b\u662fRichard III (1995),Drama,War,\u805a\u7c7b\u6a21\u578b\u9884\u6d4b\u7684\u6807\u7b7e\u662f2,\u4e0e\u805a\u7c7b\u6240\u5c5e\u7c7b\u522b\u4e2d\u5fc3\u7684\u8ddd\u79bb\u662f1.39243842319\n"
       ]
      }
     ],
     "prompt_number": 13
    },
    {
     "cell_type": "code",
     "collapsed": false,
     "input": [
      "movie_cost = movie_cluster_model.computeCost(movie_vectors)\n",
      "user_cost = user_cluster_model.computeCost(user_vectors)\n",
      "print \"WCSS for movies: %f\"%movie_cost\n",
      "print \"WCSS for users: %f\"%user_cost\n"
     ],
     "language": "python",
     "metadata": {},
     "outputs": [
      {
       "output_type": "stream",
       "stream": "stdout",
       "text": [
        "WCSS for movies: 2185.065336\n",
        "WCSS for users: 1444.951354\n"
       ]
      }
     ],
     "prompt_number": 14
    },
    {
     "cell_type": "code",
     "collapsed": false,
     "input": [
      "train_test_split_movies = movie_vectors.randomSplit([0.6,0.4],123)\n",
      "train_movies = train_test_split_movies[0]\n",
      "test_movies = train_test_split_movies[1]\n",
      "for k in [2,3,4,5,10,20]:\n",
      "    k_model = KMeans.train(train_movies, num_iterations, k, num_runs)\n",
      "    cost = k_model.computeCost(test_movies)\n",
      "    print 'WCSS for k=%d : %f'%(k,cost)"
     ],
     "language": "python",
     "metadata": {},
     "outputs": [
      {
       "output_type": "stream",
       "stream": "stdout",
       "text": [
        "WCSS for k=2 : 794.672940\n",
        "WCSS for k=3 : 790.405408"
       ]
      },
      {
       "output_type": "stream",
       "stream": "stdout",
       "text": [
        "\n",
        "WCSS for k=4 : 802.876168"
       ]
      },
      {
       "output_type": "stream",
       "stream": "stdout",
       "text": [
        "\n",
        "WCSS for k=5 : 787.516451"
       ]
      },
      {
       "output_type": "stream",
       "stream": "stdout",
       "text": [
        "\n",
        "WCSS for k=10 : 793.425051"
       ]
      },
      {
       "output_type": "stream",
       "stream": "stdout",
       "text": [
        "\n",
        "WCSS for k=20 : 797.265579"
       ]
      },
      {
       "output_type": "stream",
       "stream": "stdout",
       "text": [
        "\n"
       ]
      }
     ],
     "prompt_number": 15
    },
    {
     "cell_type": "code",
     "collapsed": false,
     "input": [
      "train_test_split_movies = user_vectors.randomSplit([0.6,0.4],123)\n",
      "train_users = train_test_split_movies[0]\n",
      "test_users = train_test_split_movies[1]\n",
      "for k in [2,3,4,5,10,20]:\n",
      "    k_model = KMeans.train(train_users,num_iterations,k,num_runs)\n",
      "    cost = k_model.computeCost(test_users)\n",
      "    print 'WCSS for k=%d : %f'%(k,cost)"
     ],
     "language": "python",
     "metadata": {},
     "outputs": [
      {
       "output_type": "stream",
       "stream": "stdout",
       "text": [
        "WCSS for k=2 : 549.756111\n",
        "WCSS for k=3 : 550.044770"
       ]
      },
      {
       "output_type": "stream",
       "stream": "stdout",
       "text": [
        "\n",
        "WCSS for k=4 : 548.847732"
       ]
      },
      {
       "output_type": "stream",
       "stream": "stdout",
       "text": [
        "\n",
        "WCSS for k=5 : 547.551015"
       ]
      },
      {
       "output_type": "stream",
       "stream": "stdout",
       "text": [
        "\n",
        "WCSS for k=10 : 549.006290"
       ]
      },
      {
       "output_type": "stream",
       "stream": "stdout",
       "text": [
        "\n",
        "WCSS for k=20 : 549.546699"
       ]
      },
      {
       "output_type": "stream",
       "stream": "stdout",
       "text": [
        "\n"
       ]
      }
     ],
     "prompt_number": 16
    },
    {
     "cell_type": "code",
     "collapsed": false,
     "input": [],
     "language": "python",
     "metadata": {},
     "outputs": []
    },
    {
     "cell_type": "code",
     "collapsed": false,
     "input": [],
     "language": "python",
     "metadata": {},
     "outputs": []
    },
    {
     "cell_type": "code",
     "collapsed": false,
     "input": [],
     "language": "python",
     "metadata": {},
     "outputs": []
    }
   ],
   "metadata": {}
  }
 ]
}