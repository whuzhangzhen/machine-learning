{
 "metadata": {
  "name": "",
  "signature": "sha256:71893315afb3bfb15155556a08a23250873726bd0b3a50fa04bd978e55144b79"
 },
 "nbformat": 3,
 "nbformat_minor": 0,
 "worksheets": [
  {
   "cells": [
    {
     "cell_type": "code",
     "collapsed": false,
     "input": [
      "print SPARK_HOME"
     ],
     "language": "python",
     "metadata": {},
     "outputs": [
      {
       "output_type": "stream",
       "stream": "stdout",
       "text": [
        "/usr/lib/spark/spark-2.0.2-bin-hadoop2.7\n"
       ]
      }
     ],
     "prompt_number": 34
    },
    {
     "cell_type": "code",
     "collapsed": false,
     "input": [
      "user_data = sc.textFile('/home/zz/Downloads/ml-100k/u.user')\n",
      "print user_data.first()"
     ],
     "language": "python",
     "metadata": {},
     "outputs": [
      {
       "output_type": "stream",
       "stream": "stdout",
       "text": [
        "1|24|M|technician|85711\n"
       ]
      }
     ],
     "prompt_number": 42
    },
    {
     "cell_type": "code",
     "collapsed": false,
     "input": [
      "user_fields = user_data.map(lambda line: line.split('|'))\n",
      "num_genders = user_fields.map(lambda fields : fields[2]).distinct().count()   #\u7edf\u8ba1\u6027\u522b\u4e2a\u6570\n",
      "num_occupations = user_fields.map(lambda fields: fields[3]).distinct().count()   #\u7edf\u8ba1\u804c\u4e1a\u4e2a\u6570\n",
      "num_zipcodes = user_fields.map(lambda fields: fields[4]).distinct().count()   #\u7edf\u8ba1\u90ae\u7f16\u4e2a\u6570\n",
      "print \"Users: %d, genders: %d, occupations: %d, ZIP codes: %d\"%(num_users,num_genders,num_occupations,num_zipcodes)"
     ],
     "language": "python",
     "metadata": {},
     "outputs": [
      {
       "output_type": "stream",
       "stream": "stdout",
       "text": [
        "Users: 943, genders: 2, occupations: 21, ZIP codes: 795\n"
       ]
      }
     ],
     "prompt_number": 44
    },
    {
     "cell_type": "code",
     "collapsed": false,
     "input": [
      "%matplotlib inline\n",
      "import matplotlib.pyplot as plt\n",
      "from matplotlib.pyplot import hist\n",
      "user_data = sc.textFile('/home/zz/Downloads/ml-100k/u.user')\n",
      "#print user_data.first()\n",
      "user_fields = user_data.map(lambda line: line.split('|'))\n",
      "ages = user_fields.map(lambda x: int(x[1])).collect()\n",
      "hist(ages, bins=20, color='lightblue',normed=True)\n",
      "fig = plt.gcf()\n",
      "fig.set_size_inches(12,6)\n",
      "plt.show()"
     ],
     "language": "python",
     "metadata": {},
     "outputs": [
      {
       "metadata": {},
       "output_type": "display_data",
       "png": "[encoded data removed]",
       "text": [
        "<matplotlib.figure.Figure at 0x7f70aaaeb950>"
       ]
      }
     ],
     "prompt_number": 48
    },
    {
     "cell_type": "code",
     "collapsed": false,
     "input": [
      "#\u753b\u51fa\u7528\u6237\u7684\u804c\u4e1a\u7684\u5206\u5e03\u56fe\uff1a\n",
      "\n",
      "import numpy as np\n",
      "count_by_occupation = user_fields.map(lambda fields: (fields[3],1)).reduceByKey(lambda x,y:x+y).collect()\n",
      "print count_by_occupation\n",
      "x_axis1 = np.array([c[0] for c in count_by_occupation])\n",
      "y_axis1 = np.array([c[1] for c in count_by_occupation])\n",
      "x_axis = x_axis1[np.argsort(y_axis1)]\n",
      "y_axis = y_axis1[np.argsort(y_axis1)]\n",
      "pos = np.arange(len(x_axis))\n",
      "width = 1.0\n",
      "ax = plt.axes()\n",
      "ax.set_xticks(pos+(width)/2)\n",
      "ax.set_xticklabels(x_axis)\n",
      "\n",
      "plt.bar(pos, y_axis, width, color='lightblue')\n",
      "plt.xticks(rotation=30)\n",
      "fig = plt.gcf()\n",
      "fig.set_size_inches(12,6)\n",
      "plt.show()"
     ],
     "language": "python",
     "metadata": {},
     "outputs": [
      {
       "output_type": "stream",
       "stream": "stdout",
       "text": [
        "[(u'administrator', 79), (u'writer', 45), (u'retired', 14), (u'student', 196), (u'doctor', 7), (u'entertainment', 18), (u'marketing', 26), (u'executive', 32), (u'none', 9), (u'scientist', 31), (u'educator', 95), (u'lawyer', 12), (u'healthcare', 16), (u'technician', 27), (u'librarian', 51), (u'programmer', 66), (u'artist', 28), (u'salesman', 12), (u'other', 105), (u'homemaker', 7), (u'engineer', 67)]\n"
       ]
      },
      {
       "metadata": {},
       "output_type": "display_data",
       "png": "[encoded data removed]",
       "text": [
        "<matplotlib.figure.Figure at 0x7f70aa7fec50>"
       ]
      }
     ],
     "prompt_number": 49
    },
    {
     "cell_type": "code",
     "collapsed": false,
     "input": [
      "count_by_occupation2 = user_fields.map(lambda fields: fields[3]).countByValue()\n",
      "print \"Map-reduce approach:\"\n",
      "print dict(count_by_occupation2)\n",
      "print \"========================\" \n",
      "print \"countByValue approach:\"\n",
      "print dict(count_by_occupation)"
     ],
     "language": "python",
     "metadata": {},
     "outputs": [
      {
       "output_type": "stream",
       "stream": "stdout",
       "text": [
        "Map-reduce approach:\n",
        "{u'administrator': 79, u'retired': 14, u'lawyer': 12, u'healthcare': 16, u'marketing': 26, u'executive': 32, u'scientist': 31, u'student': 196, u'technician': 27, u'librarian': 51, u'programmer': 66, u'salesman': 12, u'homemaker': 7, u'engineer': 67, u'none': 9, u'doctor': 7, u'writer': 45, u'entertainment': 18, u'other': 105, u'educator': 95, u'artist': 28}\n",
        "========================\n",
        "countByValue approach:\n",
        "{u'administrator': 79, u'executive': 32, u'retired': 14, u'doctor': 7, u'entertainment': 18, u'marketing': 26, u'writer': 45, u'none': 9, u'healthcare': 16, u'scientist': 31, u'homemaker': 7, u'student': 196, u'educator': 95, u'technician': 27, u'librarian': 51, u'programmer': 66, u'artist': 28, u'salesman': 12, u'other': 105, u'lawyer': 12, u'engineer': 67}\n"
       ]
      }
     ],
     "prompt_number": 51
    },
    {
     "cell_type": "code",
     "collapsed": false,
     "input": [
      "movie_data = sc.textFile(\"/home/zz/Downloads/ml-100k//u.item\")\n",
      "print movie_data.first()\n",
      "num_movies = movie_data.count()\n",
      "print 'Movies: %d' % num_movies"
     ],
     "language": "python",
     "metadata": {},
     "outputs": [
      {
       "output_type": "stream",
       "stream": "stdout",
       "text": [
        "1|Toy Story (1995)|01-Jan-1995||http://us.imdb.com/M/title-exact?Toy%20Story%20(1995)|0|0|0|1|1|1|0|0|0|0|0|0|0|0|0|0|0|0|0\n",
        "Movies: 1682\n"
       ]
      }
     ],
     "prompt_number": 53
    },
    {
     "cell_type": "code",
     "collapsed": false,
     "input": [
      "#\u753b\u51fa\u7535\u5f71\u7684age\u5206\u5e03\u56fe\uff1a\n",
      "\n",
      "def convert_year(x):\n",
      "    try:\n",
      "        return int(x[-4:])\n",
      "    except:\n",
      "        return 1900\n",
      "\n",
      "movie_fields = movie_data.map(lambda lines:lines.split('|'))\n",
      "years = movie_fields.map(lambda fields: fields[2]).map(lambda x: convert_year(x))\n",
      "years_filtered = years.filter(lambda x: x!=1900)\n",
      "print years_filtered.count()\n",
      "movie_ages = years_filtered.map(lambda yr:1998-yr).countByValue()\n",
      "values = movie_ages.values()\n",
      "bins = movie_ages.keys()\n",
      "hist(values, bins=bins, color='lightblue',normed=True)\n",
      "fig = plt.gcf()\n",
      "fig.set_size_inches(12,6)\n",
      "plt.show()"
     ],
     "language": "python",
     "metadata": {},
     "outputs": [
      {
       "output_type": "stream",
       "stream": "stdout",
       "text": [
        "1681\n"
       ]
      },
      {
       "metadata": {},
       "output_type": "display_data",
       "png": "[encoded data removed]",
       "text": [
        "<matplotlib.figure.Figure at 0x7f70aa7d0790>"
       ]
      }
     ],
     "prompt_number": 54
    },
    {
     "cell_type": "code",
     "collapsed": false,
     "input": [
      "#\u67e5\u770b\u6570\u636e\u8bb0\u5f55\u6570\u91cf\uff1a\n",
      "\n",
      "rating_data = sc.textFile('/home/zz/Downloads/ml-100k/u.data')\n",
      "print rating_data.first()\n",
      "num_ratings = rating_data.count()\n",
      "print 'Ratings: %d'% num_ratings"
     ],
     "language": "python",
     "metadata": {},
     "outputs": [
      {
       "output_type": "stream",
       "stream": "stdout",
       "text": [
        "196\t242\t3\t881250949\n",
        "Ratings: 100000"
       ]
      },
      {
       "output_type": "stream",
       "stream": "stdout",
       "text": [
        "\n"
       ]
      }
     ],
     "prompt_number": 56
    },
    {
     "cell_type": "code",
     "collapsed": false,
     "input": [
      "#\u5bf9\u6570\u636e\u8fdb\u884c\u4e00\u4e9b\u57fa\u672c\u7684\u7edf\u8ba1\uff1a\n",
      "\n",
      "rating_data = rating_data.map(lambda line: line.split('\\t'))\n",
      "ratings = rating_data.map(lambda fields: int(fields[2]))\n",
      "max_rating = ratings.reduce(lambda x,y:max(x,y))\n",
      "min_rating = ratings.reduce(lambda x,y:min(x,y))\n",
      "mean_rating = ratings.reduce(lambda x,y:x+y)/num_ratings\n",
      "median_rating = np.median(ratings.collect())\n",
      "ratings_per_user = num_ratings/num_users;\n",
      "ratings_per_movie = num_ratings/ num_movies\n",
      "print 'Min rating: %d' %min_rating\n",
      "print 'max rating: %d' % max_rating\n",
      "print 'Average rating: %2.2f' %mean_rating\n",
      "print 'Median rating: %d '%median_rating\n",
      "print 'Average # of ratings per user: %2.2f'%ratings_per_user\n",
      "print 'Average # of ratings per movie: %2.2f' % ratings_per_movie"
     ],
     "language": "python",
     "metadata": {},
     "outputs": [
      {
       "output_type": "stream",
       "stream": "stdout",
       "text": [
        "Min rating: 1\n",
        "max rating: 5\n",
        "Average rating: 3.00\n",
        "Median rating: 4 \n",
        "Average # of ratings per user: 106.00\n",
        "Average # of ratings per movie: 59.00\n"
       ]
      }
     ],
     "prompt_number": 57
    },
    {
     "cell_type": "code",
     "collapsed": false,
     "input": [
      "count_by_rating = ratings.countByValue()\n",
      "x_axis = np.array(count_by_rating.keys())\n",
      "y_axis = np.array([float(c) for c in count_by_rating.values()])\n",
      "y_axis_normed = y_axis/y_axis.sum()\n",
      "pos = np.arange(len(x_axis))\n",
      "width = 1.0\n",
      "ax = plt.axes()\n",
      "ax.set_xticks(pos+(width/2))\n",
      "ax.set_xticklabels(x_axis)\n",
      "\n",
      "plt.bar(pos, y_axis_normed, width, color='lightblue')\n",
      "plt.xticks(rotation=30)\n",
      "fig = plt.gcf()\n",
      "fig.set_size_inches(12,6)\n",
      "plt.show()"
     ],
     "language": "python",
     "metadata": {},
     "outputs": [
      {
       "metadata": {},
       "output_type": "display_data",
       "png": "[encoded data removed]",
       "text": [
        "<matplotlib.figure.Figure at 0x7f70b1ba81d0>"
       ]
      }
     ],
     "prompt_number": 58
    },
    {
     "cell_type": "code",
     "collapsed": false,
     "input": [
      "#\u8ba1\u7b97\u6bcf\u4e2a\u7528\u6237\u548c\u5176\u5bf9\u5e94\u7684\u8bc4\u4ef7\u6b21\u6570\uff1a\n",
      "\n",
      "user_ratings_grouped = rating_data.map(lambda fields:(int(fields[0]),int(fields[2]))).groupByKey()\n",
      "user_rating_byuser = user_ratings_grouped.map(lambda (k,v):(k,len(v)))\n",
      "user_rating_byuser.take(5)\n"
     ],
     "language": "python",
     "metadata": {},
     "outputs": [
      {
       "metadata": {},
       "output_type": "pyout",
       "prompt_number": 59,
       "text": [
        "[(1, 272), (2, 62), (3, 54), (4, 24), (5, 175)]"
       ]
      }
     ],
     "prompt_number": 59
    },
    {
     "cell_type": "code",
     "collapsed": false,
     "input": [
      "user_ratings_byuser_local = user_rating_byuser.map(lambda (k,v):v).collect()\n",
      "hist(user_ratings_byuser_local, bins=200, color = 'lightblue',normed = True)\n",
      "fig = plt.gcf()\n",
      "fig.set_size_inches(12,6)\n",
      "plt.show()"
     ],
     "language": "python",
     "metadata": {},
     "outputs": [
      {
       "metadata": {},
       "output_type": "display_data",
       "png": "[encoded data removed]",
       "text": [
        "<matplotlib.figure.Figure at 0x7f70a7c6b450>"
       ]
      }
     ],
     "prompt_number": 60
    },
    {
     "cell_type": "code",
     "collapsed": false,
     "input": [
      " #\u4e3a\u6bcf\u90e8\u7535\u5f71\u8ba1\u7b97\u4ed6\u7684\u88ab\u8bc4\u8bba\u7684\u6b21\u6570\n",
      "movie_ratings_group = rating_data.map(lambda fields: (int(fields[1]),int(fields[2]))).groupByKey()\n",
      "movie_ratings_byuser = movie_ratings_group.map(lambda (k,v):(k,len(v)))\n",
      "print movie_ratings_byuser.take(5)"
     ],
     "language": "python",
     "metadata": {},
     "outputs": [
      {
       "output_type": "stream",
       "stream": "stdout",
       "text": [
        "[(1, 452), (2, 131), (3, 90), (4, 209), (5, 86)]\n"
       ]
      }
     ],
     "prompt_number": 62
    },
    {
     "cell_type": "code",
     "collapsed": false,
     "input": [
      "# \u7ed8\u5236\u7535\u5f71\u8bc4\u8bba\u6b21\u6570\u5206\u5e03\u56fe\uff1a\n",
      "movie_ratings_byuser_local = movie_ratings_byuser.map(lambda (k,v):v).collect()\n",
      "hist(movie_ratings_byuser_local,bins=200,color='lightblue',normed=True)\n",
      "fig = plt.gcf()\n",
      "fig.set_size_inches(12,6)\n",
      "plt.show()"
     ],
     "language": "python",
     "metadata": {},
     "outputs": [
      {
       "metadata": {},
       "output_type": "display_data",
       "png": "[encoded data removed]",
       "text": [
        "<matplotlib.figure.Figure at 0x7f70a7b6e7d0>"
       ]
      }
     ],
     "prompt_number": 63
    },
    {
     "cell_type": "code",
     "collapsed": false,
     "input": [
      "#\u7528\u6307\u5b9a\u503c\u66ff\u6362bad values\u548cmissing values\n",
      "years_pre_processed = movie_fields.map(lambda fields: fields[2]).map(lambda x: convert_year(x)).collect()\n",
      "years_pre_processed_array = np.array(years_pre_processed)\n",
      "mean_year = np.mean(years_pre_processed_array[years_pre_processed_array!=1900])\n",
      "median_year = np.median(years_pre_processed_array[years_pre_processed_array!=1900])\n",
      "index_bad_data = np.where(years_pre_processed_array==1900)\n",
      "years_pre_processed_array[index_bad_data] = median_year\n",
      "print 'Mean year of release: %d' % mean_year\n",
      "print 'Median year of release: %d ' % median_year\n",
      "print \"Index of '1900' after assigning median: %s\"% np.where(years_pre_processed_array==1900)[0]"
     ],
     "language": "python",
     "metadata": {},
     "outputs": [
      {
       "output_type": "stream",
       "stream": "stdout",
       "text": [
        "Mean year of release: 1989\n",
        "Median year of release: 1995 \n",
        "Index of '1900' after assigning median: []\n"
       ]
      }
     ],
     "prompt_number": 64
    },
    {
     "cell_type": "code",
     "collapsed": false,
     "input": [
      "all_occupations = user_fields.map(lambda fields:fields[3]).distinct().collect()\n",
      "all_occupations.sort()\n",
      "idx = 0\n",
      "all_occupations_dict = {}\n",
      "for o in all_occupations:\n",
      "    all_occupations_dict[o] = idx\n",
      "    idx +=1\n",
      "print \"Encoding of 'doctor': %d\" %all_occupations_dict['doctor']\n",
      "print \"Encoding of 'programmer': %d\" % all_occupations_dict['programmer']"
     ],
     "language": "python",
     "metadata": {},
     "outputs": [
      {
       "output_type": "stream",
       "stream": "stdout",
       "text": [
        "Encoding of 'doctor': 2\n",
        "Encoding of 'programmer': 14\n"
       ]
      }
     ],
     "prompt_number": 65
    },
    {
     "cell_type": "code",
     "collapsed": false,
     "input": [
      "K=len(all_occupations_dict)\n",
      "binary_x = np.zeros(K)\n",
      "k_programmer = all_occupations_dict['programmer']\n",
      "binary_x[k_programmer] = 1\n",
      "print 'Binary feature vector: %s'%binary_x\n",
      "print 'Length of binray vector: %d' %K"
     ],
     "language": "python",
     "metadata": {},
     "outputs": [
      {
       "output_type": "stream",
       "stream": "stdout",
       "text": [
        "Binary feature vector: [ 0.  0.  0.  0.  0.  0.  0.  0.  0.  0.  0.  0.  0.  0.  1.  0.  0.  0.\n",
        "  0.  0.  0.]\n",
        "Length of binray vector: 21\n"
       ]
      }
     ],
     "prompt_number": 66
    },
    {
     "cell_type": "code",
     "collapsed": false,
     "input": [
      "def extract_datetime(ts):\n",
      "    import datetime\n",
      "    return datetime.datetime.fromtimestamp(ts)\n",
      "timestamps = rating_data.map(lambda fields:int(fields[3]))\n",
      "hour_of_day = timestamps.map(lambda ts: extract_datetime(ts).hour)\n",
      "hour_of_day.take(5)"
     ],
     "language": "python",
     "metadata": {},
     "outputs": [
      {
       "metadata": {},
       "output_type": "pyout",
       "prompt_number": 67,
       "text": [
        "[23, 3, 15, 13, 13]"
       ]
      }
     ],
     "prompt_number": 67
    },
    {
     "cell_type": "code",
     "collapsed": false,
     "input": [
      "def assign_tod(hr):\n",
      "    times_of_day = {\n",
      "        'morning':range(7,12),\n",
      "        'lunch': range(12,14),\n",
      "        'afternoon':range(14,18),\n",
      "        'evening':range(18,23),\n",
      "        'night': [23,24,1,2,3,4,5,6]\n",
      "        }\n",
      "    for k,v in times_of_day.iteritems():\n",
      "        if hr in v:\n",
      "            return k\n",
      "time_of_day = hour_of_day.map(lambda hr: assign_tod(hr))\n",
      "time_of_day.take(5)"
     ],
     "language": "python",
     "metadata": {},
     "outputs": [
      {
       "metadata": {},
       "output_type": "pyout",
       "prompt_number": 68,
       "text": [
        "['night', 'night', 'afternoon', 'lunch', 'lunch']"
       ]
      }
     ],
     "prompt_number": 68
    },
    {
     "cell_type": "code",
     "collapsed": false,
     "input": [
      "time_of_day_unique = time_of_day.map(lambda fields:fields).distinct().collect()\n",
      "time_of_day_unique.sort()\n",
      "idx = 0\n",
      "time_of_day_unique_dict = {}\n",
      "for o in time_of_day_unique:\n",
      "    time_of_day_unique_dict[o] = idx\n",
      "    idx +=1\n",
      "print \"Encoding of 'afternoon': %d\" %time_of_day_unique_dict['afternoon']\n",
      "print \"Encoding of 'morning': %d\" % time_of_day_unique_dict['morning']\n",
      "print \"Encoding of 'lunch': %d\" % time_of_day_unique_dict['lunch']"
     ],
     "language": "python",
     "metadata": {},
     "outputs": [
      {
       "output_type": "stream",
       "stream": "stdout",
       "text": [
        "Encoding of 'afternoon': 1\n",
        "Encoding of 'morning': 4\n",
        "Encoding of 'lunch': 3\n"
       ]
      }
     ],
     "prompt_number": 69
    },
    {
     "cell_type": "code",
     "collapsed": false,
     "input": [
      "def extract_title(raw):\n",
      "    import re\n",
      "    grps = re.search(\"\\((\\w+)\\)\",raw)\n",
      "    if grps:\n",
      "        return raw[:grps.start()].strip()\n",
      "    else:\n",
      "        return raw\n",
      "raw_titles = movie_fields.map(lambda fields: fields[1])\n",
      "for raw_title in raw_titles.take(5):\n",
      "    print extract_title(raw_title)"
     ],
     "language": "python",
     "metadata": {},
     "outputs": [
      {
       "output_type": "stream",
       "stream": "stdout",
       "text": [
        "Toy Story\n",
        "GoldenEye\n",
        "Four Rooms\n",
        "Get Shorty\n",
        "Copycat\n"
       ]
      }
     ],
     "prompt_number": 70
    },
    {
     "cell_type": "code",
     "collapsed": false,
     "input": [
      "movie_titles = raw_titles.map(lambda m: extract_title(m))\n",
      "title_terms = movie_titles.map(lambda m:m.split(' '))\n",
      "print title_terms.take(5)\n"
     ],
     "language": "python",
     "metadata": {},
     "outputs": [
      {
       "output_type": "stream",
       "stream": "stdout",
       "text": [
        "[[u'Toy', u'Story'], [u'GoldenEye'], [u'Four', u'Rooms'], [u'Get', u'Shorty'], [u'Copycat']]\n"
       ]
      }
     ],
     "prompt_number": 71
    },
    {
     "cell_type": "code",
     "collapsed": false,
     "input": [
      "all_terms = title_terms.flatMap(lambda x: x).distinct().collect()\n",
      "idx = 0\n",
      "all_terms_dict = {}\n",
      "for term in all_terms:\n",
      "    all_terms_dict[term] = idx\n",
      "    idx+=1\n",
      "    \n",
      "print \"Total number of terms: %d\" % len(all_terms_dict)\n",
      "print \"Index of term 'Dead': %d\" % all_terms_dict['Dead']\n",
      "print \"Index of term 'Rooms': %d\" % all_terms_dict['Rooms']"
     ],
     "language": "python",
     "metadata": {},
     "outputs": [
      {
       "output_type": "stream",
       "stream": "stdout",
       "text": [
        "Total number of terms: 2645\n",
        "Index of term 'Dead': 723\n",
        "Index of term 'Rooms': 321\n"
       ]
      }
     ],
     "prompt_number": 72
    },
    {
     "cell_type": "code",
     "collapsed": false,
     "input": [
      "all_terms_dict2 = title_terms.flatMap(lambda x:x).distinct().zipWithIndex().collectAsMap()\n",
      "print \"Index of term 'Dead %d\" % all_terms_dict['Dead']\n",
      "print \"Index of term 'Rooms': %d\" % all_terms_dict['Rooms']"
     ],
     "language": "python",
     "metadata": {},
     "outputs": [
      {
       "output_type": "stream",
       "stream": "stdout",
       "text": [
        "Index of term 'Dead 723\n",
        "Index of term 'Rooms': 321\n"
       ]
      }
     ],
     "prompt_number": 73
    },
    {
     "cell_type": "code",
     "collapsed": false,
     "input": [
      "def create_vector(terms, term_dict):\n",
      "    from scipy import sparse as sp\n",
      "    num_terms = len(term_dict)\n",
      "    x = sp.csc_matrix((1,num_terms))\n",
      "    for t in terms:\n",
      "        if t in term_dict:\n",
      "            idx = term_dict[t]\n",
      "            x[0,idx] = 1\n",
      "    return x\n",
      "all_terms_bcast = sc.broadcast(all_terms_dict)\n",
      "term_vectors = title_terms.map(lambda terms: create_vector(terms,all_terms_bcast.value))\n",
      "term_vectors.take(5)"
     ],
     "language": "python",
     "metadata": {},
     "outputs": [
      {
       "metadata": {},
       "output_type": "pyout",
       "prompt_number": 74,
       "text": [
        "[<1x2645 sparse matrix of type '<type 'numpy.float64'>'\n",
        " \twith 2 stored elements in Compressed Sparse Column format>,\n",
        " <1x2645 sparse matrix of type '<type 'numpy.float64'>'\n",
        " \twith 1 stored elements in Compressed Sparse Column format>,\n",
        " <1x2645 sparse matrix of type '<type 'numpy.float64'>'\n",
        " \twith 2 stored elements in Compressed Sparse Column format>,\n",
        " <1x2645 sparse matrix of type '<type 'numpy.float64'>'\n",
        " \twith 2 stored elements in Compressed Sparse Column format>,\n",
        " <1x2645 sparse matrix of type '<type 'numpy.float64'>'\n",
        " \twith 1 stored elements in Compressed Sparse Column format>]"
       ]
      }
     ],
     "prompt_number": 74
    },
    {
     "cell_type": "code",
     "collapsed": false,
     "input": [
      "np.random.seed(42)\n",
      "x = np.random.randn(10)\n",
      "norm_x_2 = np.linalg.norm(x)\n",
      "normalized_x = x / norm_x_2\n",
      "print \"x:\\n%s\" % x\n",
      "print \"2-Norm of x: %2.4f\" % norm_x_2\n",
      "print \"Normalized x:\\n%s\" % normalized_x\n",
      "print \"2-Norm of normalized_x: %2.4f\" %np.linalg.norm(normalized_x)"
     ],
     "language": "python",
     "metadata": {},
     "outputs": [
      {
       "output_type": "stream",
       "stream": "stdout",
       "text": [
        "x:\n",
        "[ 0.49671415 -0.1382643   0.64768854  1.52302986 -0.23415337 -0.23413696\n",
        "  1.57921282  0.76743473 -0.46947439  0.54256004]\n",
        "2-Norm of x: 2.5908\n",
        "Normalized x:\n",
        "[ 0.19172213 -0.05336737  0.24999534  0.58786029 -0.09037871 -0.09037237\n",
        "  0.60954584  0.29621508 -0.1812081   0.20941776]\n",
        "2-Norm of normalized_x: 1.0000\n"
       ]
      }
     ],
     "prompt_number": 76
    },
    {
     "cell_type": "code",
     "collapsed": false,
     "input": [
      "from pyspark.mllib.feature import Normalizer\n",
      "normlizer = Normalizer()\n",
      "vector = sc.parallelize([x])\n",
      "normalized_x_mllib = normlizer.transform(vector).first().toArray()\n",
      "\n",
      "print \"x:\\n%s\" % x\n",
      "print \"2-Norm of x: %2.4f\" % norm_x_2\n",
      "print \"Normalized x:\\n%s\" % normalized_x\n",
      "print \"Normalized x MLlib:\\n%s\" % normalized_x_mllib\n",
      "print \"2-Norm of normalized_x_mllib: %2.4f\" % np.linalg.norm(normalized_x_mllib)"
     ],
     "language": "python",
     "metadata": {},
     "outputs": [
      {
       "output_type": "stream",
       "stream": "stdout",
       "text": [
        "x:\n",
        "[ 0.49671415 -0.1382643   0.64768854  1.52302986 -0.23415337 -0.23413696\n",
        "  1.57921282  0.76743473 -0.46947439  0.54256004]\n",
        "2-Norm of x: 2.5908\n",
        "Normalized x:\n",
        "[ 0.19172213 -0.05336737  0.24999534  0.58786029 -0.09037871 -0.09037237\n",
        "  0.60954584  0.29621508 -0.1812081   0.20941776]\n",
        "Normalized x MLlib:\n",
        "[ 0.19172213 -0.05336737  0.24999534  0.58786029 -0.09037871 -0.09037237\n",
        "  0.60954584  0.29621508 -0.1812081   0.20941776]\n",
        "2-Norm of normalized_x_mllib: 1.0000\n"
       ]
      }
     ],
     "prompt_number": 77
    },
    {
     "cell_type": "code",
     "collapsed": false,
     "input": [],
     "language": "python",
     "metadata": {},
     "outputs": [
      {
       "ename": "Py4JJavaError",
       "evalue": "An error occurred while calling o1026.partitions.\n: org.apache.hadoop.mapred.InvalidInputException: Input path does not exist: file:/home/zz/Downloads/u.data\n\tat org.apache.hadoop.mapred.FileInputFormat.singleThreadedListStatus(FileInputFormat.java:287)\n\tat org.apache.hadoop.mapred.FileInputFormat.listStatus(FileInputFormat.java:229)\n\tat org.apache.hadoop.mapred.FileInputFormat.getSplits(FileInputFormat.java:315)\n\tat org.apache.spark.rdd.HadoopRDD.getPartitions(HadoopRDD.scala:199)\n\tat org.apache.spark.rdd.RDD$$anonfun$partitions$2.apply(RDD.scala:248)\n\tat org.apache.spark.rdd.RDD$$anonfun$partitions$2.apply(RDD.scala:246)\n\tat scala.Option.getOrElse(Option.scala:121)\n\tat org.apache.spark.rdd.RDD.partitions(RDD.scala:246)\n\tat org.apache.spark.rdd.MapPartitionsRDD.getPartitions(MapPartitionsRDD.scala:35)\n\tat org.apache.spark.rdd.RDD$$anonfun$partitions$2.apply(RDD.scala:248)\n\tat org.apache.spark.rdd.RDD$$anonfun$partitions$2.apply(RDD.scala:246)\n\tat scala.Option.getOrElse(Option.scala:121)\n\tat org.apache.spark.rdd.RDD.partitions(RDD.scala:246)\n\tat org.apache.spark.api.java.JavaRDDLike$class.partitions(JavaRDDLike.scala:60)\n\tat org.apache.spark.api.java.AbstractJavaRDDLike.partitions(JavaRDDLike.scala:45)\n\tat sun.reflect.GeneratedMethodAccessor52.invoke(Unknown Source)\n\tat sun.reflect.DelegatingMethodAccessorImpl.invoke(DelegatingMethodAccessorImpl.java:43)\n\tat java.lang.reflect.Method.invoke(Method.java:498)\n\tat py4j.reflection.MethodInvoker.invoke(MethodInvoker.java:237)\n\tat py4j.reflection.ReflectionEngine.invoke(ReflectionEngine.java:357)\n\tat py4j.Gateway.invoke(Gateway.java:280)\n\tat py4j.commands.AbstractCommand.invokeMethod(AbstractCommand.java:132)\n\tat py4j.commands.CallCommand.execute(CallCommand.java:79)\n\tat py4j.GatewayConnection.run(GatewayConnection.java:214)\n\tat java.lang.Thread.run(Thread.java:745)\n",
       "output_type": "pyerr",
       "traceback": [
        "\u001b[0;31m---------------------------------------------------------------------------\u001b[0m\n\u001b[0;31mPy4JJavaError\u001b[0m                             Traceback (most recent call last)",
        "\u001b[0;32m<ipython-input-80-78369fbe292f>\u001b[0m in \u001b[0;36m<module>\u001b[0;34m()\u001b[0m\n\u001b[1;32m      1\u001b[0m \u001b[0;32mfrom\u001b[0m \u001b[0mpyspark\u001b[0m \u001b[0;32mimport\u001b[0m  \u001b[0mSparkContext\u001b[0m\u001b[0;34m,\u001b[0m\u001b[0mSparkConf\u001b[0m\u001b[0;34m\u001b[0m\u001b[0m\n\u001b[1;32m      2\u001b[0m \u001b[0mrawData\u001b[0m \u001b[0;34m=\u001b[0m \u001b[0msc\u001b[0m\u001b[0;34m.\u001b[0m\u001b[0mtextFile\u001b[0m\u001b[0;34m(\u001b[0m\u001b[0;34m\"/home/zz/Downloads/u.data\"\u001b[0m\u001b[0;34m)\u001b[0m\u001b[0;34m\u001b[0m\u001b[0m\n\u001b[0;32m----> 3\u001b[0;31m \u001b[0;32mprint\u001b[0m \u001b[0mrawData\u001b[0m\u001b[0;34m.\u001b[0m\u001b[0mfirst\u001b[0m\u001b[0;34m(\u001b[0m\u001b[0;34m)\u001b[0m\u001b[0;34m\u001b[0m\u001b[0m\n\u001b[0m\u001b[1;32m      4\u001b[0m \u001b[0mrawRatings\u001b[0m \u001b[0;34m=\u001b[0m \u001b[0mrawData\u001b[0m\u001b[0;34m.\u001b[0m\u001b[0mmap\u001b[0m\u001b[0;34m(\u001b[0m\u001b[0;32mlambda\u001b[0m \u001b[0mx\u001b[0m\u001b[0;34m:\u001b[0m \u001b[0mx\u001b[0m\u001b[0;34m.\u001b[0m\u001b[0msplit\u001b[0m\u001b[0;34m(\u001b[0m\u001b[0;34m'\\t'\u001b[0m\u001b[0;34m)\u001b[0m\u001b[0;34m)\u001b[0m\u001b[0;34m\u001b[0m\u001b[0m\n\u001b[1;32m      5\u001b[0m \u001b[0mrawRatings\u001b[0m\u001b[0;34m.\u001b[0m\u001b[0mtake\u001b[0m\u001b[0;34m(\u001b[0m\u001b[0;36m5\u001b[0m\u001b[0;34m)\u001b[0m\u001b[0;34m\u001b[0m\u001b[0m\n",
        "\u001b[0;32m/usr/lib/spark/spark-2.0.2-bin-hadoop2.7/python/pyspark/rdd.py\u001b[0m in \u001b[0;36mfirst\u001b[0;34m(self)\u001b[0m\n\u001b[1;32m   1326\u001b[0m         \u001b[0mValueError\u001b[0m\u001b[0;34m:\u001b[0m \u001b[0mRDD\u001b[0m \u001b[0;32mis\u001b[0m \u001b[0mempty\u001b[0m\u001b[0;34m\u001b[0m\u001b[0m\n\u001b[1;32m   1327\u001b[0m         \"\"\"\n\u001b[0;32m-> 1328\u001b[0;31m         \u001b[0mrs\u001b[0m \u001b[0;34m=\u001b[0m \u001b[0mself\u001b[0m\u001b[0;34m.\u001b[0m\u001b[0mtake\u001b[0m\u001b[0;34m(\u001b[0m\u001b[0;36m1\u001b[0m\u001b[0;34m)\u001b[0m\u001b[0;34m\u001b[0m\u001b[0m\n\u001b[0m\u001b[1;32m   1329\u001b[0m         \u001b[0;32mif\u001b[0m \u001b[0mrs\u001b[0m\u001b[0;34m:\u001b[0m\u001b[0;34m\u001b[0m\u001b[0m\n\u001b[1;32m   1330\u001b[0m             \u001b[0;32mreturn\u001b[0m \u001b[0mrs\u001b[0m\u001b[0;34m[\u001b[0m\u001b[0;36m0\u001b[0m\u001b[0;34m]\u001b[0m\u001b[0;34m\u001b[0m\u001b[0m\n",
        "\u001b[0;32m/usr/lib/spark/spark-2.0.2-bin-hadoop2.7/python/pyspark/rdd.py\u001b[0m in \u001b[0;36mtake\u001b[0;34m(self, num)\u001b[0m\n\u001b[1;32m   1278\u001b[0m         \"\"\"\n\u001b[1;32m   1279\u001b[0m         \u001b[0mitems\u001b[0m \u001b[0;34m=\u001b[0m \u001b[0;34m[\u001b[0m\u001b[0;34m]\u001b[0m\u001b[0;34m\u001b[0m\u001b[0m\n\u001b[0;32m-> 1280\u001b[0;31m         \u001b[0mtotalParts\u001b[0m \u001b[0;34m=\u001b[0m \u001b[0mself\u001b[0m\u001b[0;34m.\u001b[0m\u001b[0mgetNumPartitions\u001b[0m\u001b[0;34m(\u001b[0m\u001b[0;34m)\u001b[0m\u001b[0;34m\u001b[0m\u001b[0m\n\u001b[0m\u001b[1;32m   1281\u001b[0m         \u001b[0mpartsScanned\u001b[0m \u001b[0;34m=\u001b[0m \u001b[0;36m0\u001b[0m\u001b[0;34m\u001b[0m\u001b[0m\n\u001b[1;32m   1282\u001b[0m \u001b[0;34m\u001b[0m\u001b[0m\n",
        "\u001b[0;32m/usr/lib/spark/spark-2.0.2-bin-hadoop2.7/python/pyspark/rdd.py\u001b[0m in \u001b[0;36mgetNumPartitions\u001b[0;34m(self)\u001b[0m\n\u001b[1;32m    354\u001b[0m         \u001b[0;36m2\u001b[0m\u001b[0;34m\u001b[0m\u001b[0m\n\u001b[1;32m    355\u001b[0m         \"\"\"\n\u001b[0;32m--> 356\u001b[0;31m         \u001b[0;32mreturn\u001b[0m \u001b[0mself\u001b[0m\u001b[0;34m.\u001b[0m\u001b[0m_jrdd\u001b[0m\u001b[0;34m.\u001b[0m\u001b[0mpartitions\u001b[0m\u001b[0;34m(\u001b[0m\u001b[0;34m)\u001b[0m\u001b[0;34m.\u001b[0m\u001b[0msize\u001b[0m\u001b[0;34m(\u001b[0m\u001b[0;34m)\u001b[0m\u001b[0;34m\u001b[0m\u001b[0m\n\u001b[0m\u001b[1;32m    357\u001b[0m \u001b[0;34m\u001b[0m\u001b[0m\n\u001b[1;32m    358\u001b[0m     \u001b[0;32mdef\u001b[0m \u001b[0mfilter\u001b[0m\u001b[0;34m(\u001b[0m\u001b[0mself\u001b[0m\u001b[0;34m,\u001b[0m \u001b[0mf\u001b[0m\u001b[0;34m)\u001b[0m\u001b[0;34m:\u001b[0m\u001b[0;34m\u001b[0m\u001b[0m\n",
        "\u001b[0;32m/usr/lib/spark/spark-2.0.2-bin-hadoop2.7/python/py4j/java_gateway.py\u001b[0m in \u001b[0;36m__call__\u001b[0;34m(self, *args)\u001b[0m\n\u001b[1;32m   1131\u001b[0m         \u001b[0manswer\u001b[0m \u001b[0;34m=\u001b[0m \u001b[0mself\u001b[0m\u001b[0;34m.\u001b[0m\u001b[0mgateway_client\u001b[0m\u001b[0;34m.\u001b[0m\u001b[0msend_command\u001b[0m\u001b[0;34m(\u001b[0m\u001b[0mcommand\u001b[0m\u001b[0;34m)\u001b[0m\u001b[0;34m\u001b[0m\u001b[0m\n\u001b[1;32m   1132\u001b[0m         return_value = get_return_value(\n\u001b[0;32m-> 1133\u001b[0;31m             answer, self.gateway_client, self.target_id, self.name)\n\u001b[0m\u001b[1;32m   1134\u001b[0m \u001b[0;34m\u001b[0m\u001b[0m\n\u001b[1;32m   1135\u001b[0m         \u001b[0;32mfor\u001b[0m \u001b[0mtemp_arg\u001b[0m \u001b[0;32min\u001b[0m \u001b[0mtemp_args\u001b[0m\u001b[0;34m:\u001b[0m\u001b[0;34m\u001b[0m\u001b[0m\n",
        "\u001b[0;32m/usr/lib/spark/spark-2.0.2-bin-hadoop2.7/python/py4j/protocol.py\u001b[0m in \u001b[0;36mget_return_value\u001b[0;34m(answer, gateway_client, target_id, name)\u001b[0m\n\u001b[1;32m    317\u001b[0m                 raise Py4JJavaError(\n\u001b[1;32m    318\u001b[0m                     \u001b[0;34m\"An error occurred while calling {0}{1}{2}.\\n\"\u001b[0m\u001b[0;34m.\u001b[0m\u001b[0;34m\u001b[0m\u001b[0m\n\u001b[0;32m--> 319\u001b[0;31m                     format(target_id, \".\", name), value)\n\u001b[0m\u001b[1;32m    320\u001b[0m             \u001b[0;32melse\u001b[0m\u001b[0;34m:\u001b[0m\u001b[0;34m\u001b[0m\u001b[0m\n\u001b[1;32m    321\u001b[0m                 raise Py4JError(\n",
        "\u001b[0;31mPy4JJavaError\u001b[0m: An error occurred while calling o1026.partitions.\n: org.apache.hadoop.mapred.InvalidInputException: Input path does not exist: file:/home/zz/Downloads/u.data\n\tat org.apache.hadoop.mapred.FileInputFormat.singleThreadedListStatus(FileInputFormat.java:287)\n\tat org.apache.hadoop.mapred.FileInputFormat.listStatus(FileInputFormat.java:229)\n\tat org.apache.hadoop.mapred.FileInputFormat.getSplits(FileInputFormat.java:315)\n\tat org.apache.spark.rdd.HadoopRDD.getPartitions(HadoopRDD.scala:199)\n\tat org.apache.spark.rdd.RDD$$anonfun$partitions$2.apply(RDD.scala:248)\n\tat org.apache.spark.rdd.RDD$$anonfun$partitions$2.apply(RDD.scala:246)\n\tat scala.Option.getOrElse(Option.scala:121)\n\tat org.apache.spark.rdd.RDD.partitions(RDD.scala:246)\n\tat org.apache.spark.rdd.MapPartitionsRDD.getPartitions(MapPartitionsRDD.scala:35)\n\tat org.apache.spark.rdd.RDD$$anonfun$partitions$2.apply(RDD.scala:248)\n\tat org.apache.spark.rdd.RDD$$anonfun$partitions$2.apply(RDD.scala:246)\n\tat scala.Option.getOrElse(Option.scala:121)\n\tat org.apache.spark.rdd.RDD.partitions(RDD.scala:246)\n\tat org.apache.spark.api.java.JavaRDDLike$class.partitions(JavaRDDLike.scala:60)\n\tat org.apache.spark.api.java.AbstractJavaRDDLike.partitions(JavaRDDLike.scala:45)\n\tat sun.reflect.GeneratedMethodAccessor52.invoke(Unknown Source)\n\tat sun.reflect.DelegatingMethodAccessorImpl.invoke(DelegatingMethodAccessorImpl.java:43)\n\tat java.lang.reflect.Method.invoke(Method.java:498)\n\tat py4j.reflection.MethodInvoker.invoke(MethodInvoker.java:237)\n\tat py4j.reflection.ReflectionEngine.invoke(ReflectionEngine.java:357)\n\tat py4j.Gateway.invoke(Gateway.java:280)\n\tat py4j.commands.AbstractCommand.invokeMethod(AbstractCommand.java:132)\n\tat py4j.commands.CallCommand.execute(CallCommand.java:79)\n\tat py4j.GatewayConnection.run(GatewayConnection.java:214)\n\tat java.lang.Thread.run(Thread.java:745)\n"
       ]
      }
     ],
     "prompt_number": 80
    },
    {
     "cell_type": "code",
     "collapsed": false,
     "input": [],
     "language": "python",
     "metadata": {},
     "outputs": [],
     "prompt_number": 79
    },
    {
     "cell_type": "code",
     "collapsed": false,
     "input": [],
     "language": "python",
     "metadata": {},
     "outputs": []
    }
   ],
   "metadata": {}
  }
 ]
}