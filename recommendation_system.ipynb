{
 "metadata": {
  "name": "",
  "signature": "sha256:c940fca48d0420187762b77c506a730777c1784c1159eb2e1ac525e463943368"
 },
 "nbformat": 3,
 "nbformat_minor": 0,
 "worksheets": [
  {
   "cells": [
    {
     "cell_type": "code",
     "collapsed": false,
     "input": [
      "print SPARK_HOME"
     ],
     "language": "python",
     "metadata": {},
     "outputs": [
      {
       "output_type": "stream",
       "stream": "stdout",
       "text": [
        "/usr/lib/spark/spark-2.0.2-bin-hadoop2.7\n"
       ]
      }
     ],
     "prompt_number": 1
    },
    {
     "cell_type": "code",
     "collapsed": false,
     "input": [
      "from pyspark import  SparkContext,SparkConf\n",
      "sc = SparkContext('local','recommend')"
     ],
     "language": "python",
     "metadata": {},
     "outputs": [
      {
       "ename": "ValueError",
       "evalue": "Cannot run multiple SparkContexts at once; existing SparkContext(app=recommend, master=local) created by __init__ at <ipython-input-1-b785b4eb2ff1>:2 ",
       "output_type": "pyerr",
       "traceback": [
        "\u001b[0;31m---------------------------------------------------------------------------\u001b[0m\n\u001b[0;31mValueError\u001b[0m                                Traceback (most recent call last)",
        "\u001b[0;32m<ipython-input-10-b785b4eb2ff1>\u001b[0m in \u001b[0;36m<module>\u001b[0;34m()\u001b[0m\n\u001b[1;32m      1\u001b[0m \u001b[0;32mfrom\u001b[0m \u001b[0mpyspark\u001b[0m \u001b[0;32mimport\u001b[0m  \u001b[0mSparkContext\u001b[0m\u001b[0;34m,\u001b[0m\u001b[0mSparkConf\u001b[0m\u001b[0;34m\u001b[0m\u001b[0m\n\u001b[0;32m----> 2\u001b[0;31m \u001b[0msc\u001b[0m \u001b[0;34m=\u001b[0m \u001b[0mSparkContext\u001b[0m\u001b[0;34m(\u001b[0m\u001b[0;34m'local'\u001b[0m\u001b[0;34m,\u001b[0m\u001b[0;34m'recommend'\u001b[0m\u001b[0;34m)\u001b[0m\u001b[0;34m\u001b[0m\u001b[0m\n\u001b[0m",
        "\u001b[0;32m/usr/lib/spark/spark-2.0.2-bin-hadoop2.7/python/pyspark/context.py\u001b[0m in \u001b[0;36m__init__\u001b[0;34m(self, master, appName, sparkHome, pyFiles, environment, batchSize, serializer, conf, gateway, jsc, profiler_cls)\u001b[0m\n\u001b[1;32m    110\u001b[0m         \"\"\"\n\u001b[1;32m    111\u001b[0m         \u001b[0mself\u001b[0m\u001b[0;34m.\u001b[0m\u001b[0m_callsite\u001b[0m \u001b[0;34m=\u001b[0m \u001b[0mfirst_spark_call\u001b[0m\u001b[0;34m(\u001b[0m\u001b[0;34m)\u001b[0m \u001b[0;32mor\u001b[0m \u001b[0mCallSite\u001b[0m\u001b[0;34m(\u001b[0m\u001b[0mNone\u001b[0m\u001b[0;34m,\u001b[0m \u001b[0mNone\u001b[0m\u001b[0;34m,\u001b[0m \u001b[0mNone\u001b[0m\u001b[0;34m)\u001b[0m\u001b[0;34m\u001b[0m\u001b[0m\n\u001b[0;32m--> 112\u001b[0;31m         \u001b[0mSparkContext\u001b[0m\u001b[0;34m.\u001b[0m\u001b[0m_ensure_initialized\u001b[0m\u001b[0;34m(\u001b[0m\u001b[0mself\u001b[0m\u001b[0;34m,\u001b[0m \u001b[0mgateway\u001b[0m\u001b[0;34m=\u001b[0m\u001b[0mgateway\u001b[0m\u001b[0;34m)\u001b[0m\u001b[0;34m\u001b[0m\u001b[0m\n\u001b[0m\u001b[1;32m    113\u001b[0m         \u001b[0;32mtry\u001b[0m\u001b[0;34m:\u001b[0m\u001b[0;34m\u001b[0m\u001b[0m\n\u001b[1;32m    114\u001b[0m             self._do_init(master, appName, sparkHome, pyFiles, environment, batchSize, serializer,\n",
        "\u001b[0;32m/usr/lib/spark/spark-2.0.2-bin-hadoop2.7/python/pyspark/context.py\u001b[0m in \u001b[0;36m_ensure_initialized\u001b[0;34m(cls, instance, gateway)\u001b[0m\n\u001b[1;32m    257\u001b[0m                         \u001b[0;34m\" created by %s at %s:%s \"\u001b[0m\u001b[0;34m\u001b[0m\u001b[0m\n\u001b[1;32m    258\u001b[0m                         % (currentAppName, currentMaster,\n\u001b[0;32m--> 259\u001b[0;31m                             callsite.function, callsite.file, callsite.linenum))\n\u001b[0m\u001b[1;32m    260\u001b[0m                 \u001b[0;32melse\u001b[0m\u001b[0;34m:\u001b[0m\u001b[0;34m\u001b[0m\u001b[0m\n\u001b[1;32m    261\u001b[0m                     \u001b[0mSparkContext\u001b[0m\u001b[0;34m.\u001b[0m\u001b[0m_active_spark_context\u001b[0m \u001b[0;34m=\u001b[0m \u001b[0minstance\u001b[0m\u001b[0;34m\u001b[0m\u001b[0m\n",
        "\u001b[0;31mValueError\u001b[0m: Cannot run multiple SparkContexts at once; existing SparkContext(app=recommend, master=local) created by __init__ at <ipython-input-1-b785b4eb2ff1>:2 "
       ]
      }
     ],
     "prompt_number": 10
    },
    {
     "cell_type": "code",
     "collapsed": false,
     "input": [
      "rawData = sc.textFile(\"/home/zz/Downloads/ml-100k/u.data\")\n",
      "print rawData.first()\n",
      "rawRatings = rawData.map(lambda x: x.split('\\t'))\n",
      "rawRatings.take(5)\n",
      "#\u6570\u636e\u5206\u522b\u662fuserId\uff0citemId\uff0crating\u548ctimestamp"
     ],
     "language": "python",
     "metadata": {},
     "outputs": [
      {
       "output_type": "stream",
       "stream": "stdout",
       "text": [
        "196\t242\t3\t881250949\n"
       ]
      },
      {
       "metadata": {},
       "output_type": "pyout",
       "prompt_number": 2,
       "text": [
        "[[u'196', u'242', u'3', u'881250949'],\n",
        " [u'186', u'302', u'3', u'891717742'],\n",
        " [u'22', u'377', u'1', u'878887116'],\n",
        " [u'244', u'51', u'2', u'880606923'],\n",
        " [u'166', u'346', u'1', u'886397596']]"
       ]
      }
     ],
     "prompt_number": 2
    },
    {
     "cell_type": "code",
     "collapsed": false,
     "input": [
      "from pyspark.mllib.recommendation import Rating, ALS\n",
      "ratings = rawRatings.map(lambda x: Rating(int(x[0]),int(x[1]),float(x[2])))\n",
      "print ratings.take(5)"
     ],
     "language": "python",
     "metadata": {},
     "outputs": [
      {
       "output_type": "stream",
       "stream": "stdout",
       "text": [
        "[Rating(user=196, product=242, rating=3.0), Rating(user=186, product=302, rating=3.0), Rating(user=22, product=377, rating=1.0), Rating(user=244, product=51, rating=2.0), Rating(user=166, product=346, rating=1.0)]\n"
       ]
      }
     ],
     "prompt_number": 3
    },
    {
     "cell_type": "code",
     "collapsed": false,
     "input": [
      "model = ALS.train(ratings, 50, 10, 0.01)\n",
      "userFeatures = model.userFeatures()\n",
      "print userFeatures.take(2)"
     ],
     "language": "python",
     "metadata": {},
     "outputs": [
      {
       "output_type": "stream",
       "stream": "stdout",
       "text": [
        "[(1, array('d', [-0.30875709652900696, 0.6178671717643738, 0.05098365247249603, -0.07976780086755753, 0.7405523061752319, -0.5223522782325745, -0.024878982454538345, -0.8592708706855774, -0.13474424183368683, -0.07530202716588974, 0.19605131447315216, -0.07063417136669159, -0.1916997730731964, 0.05698418617248535, -0.3708431124687195, -0.2982445955276489, -0.01260220818221569, -0.06636704504489899, 0.2702467143535614, -0.056443072855472565, -0.24961520731449127, -0.03768107295036316, 0.40084999799728394, -0.31323763728141785, 0.6146169900894165, -0.4273795485496521, 0.024053877219557762, -0.32522064447402954, 0.216401144862175, -0.035487595945596695, 0.18602176010608673, 0.2663537263870239, 0.4103885293006897, 0.4451475441455841, 0.09647899121046066, -0.286504328250885, 0.34301942586898804, -0.24454408884048462, 0.4334074854850769, 0.1909947693347931, 0.012274370528757572, -0.3901791572570801, -0.6962752342224121, 0.47981351613998413, -0.13248711824417114, -0.32513293623924255, 0.09821545332670212, 0.24767887592315674, -0.26822033524513245, -0.10636832565069199])), (2, array('d', [0.08744225651025772, 0.3194381892681122, -0.1733085662126541, 0.20517386496067047, -0.08537061512470245, -0.08566629141569138, -0.4079943299293518, 0.5366092324256897, 0.015658825635910034, 0.14571893215179443, 0.23882785439491272, -0.3286997675895691, 0.49555858969688416, -0.40613043308258057, 0.4335622489452362, -0.7230880260467529, 0.7054141759872437, -0.47671785950660706, 0.14148199558258057, 0.10338801145553589, -0.46448808908462524, 0.04411004111170769, 0.28014394640922546, -0.05967700108885765, 0.31810471415519714, 0.05536538362503052, 0.36769363284111023, 0.09377162158489227, 0.23168566823005676, 0.2706218361854553, 0.5178747773170471, -0.793870210647583, -0.1757112741470337, -0.7561846971511841, -0.5508955121040344, 0.4516468942165375, 0.23100876808166504, -0.25543564558029175, -0.10809025168418884, 0.41747206449508667, 0.10647765547037125, -0.0950811579823494, -0.15126606822013855, 0.23273175954818726, -0.5405816435813904, 0.43581369519233704, -0.09786924719810486, 0.9753743410110474, -0.07364445924758911, 0.1794043481349945]))]\n"
       ]
      }
     ],
     "prompt_number": 4
    },
    {
     "cell_type": "code",
     "collapsed": false,
     "input": [
      "print model.userFeatures().count()\n",
      "print model.productFeatures().count()"
     ],
     "language": "python",
     "metadata": {},
     "outputs": [
      {
       "output_type": "stream",
       "stream": "stdout",
       "text": [
        "943\n",
        "1682"
       ]
      },
      {
       "output_type": "stream",
       "stream": "stdout",
       "text": [
        "\n"
       ]
      }
     ],
     "prompt_number": 5
    },
    {
     "cell_type": "code",
     "collapsed": false,
     "input": [
      "print len(userFeatures.first()[1])\n",
      "predictRating = model.predict(789,123)\n",
      "print predictRating"
     ],
     "language": "python",
     "metadata": {},
     "outputs": [
      {
       "output_type": "stream",
       "stream": "stdout",
       "text": [
        "50\n",
        "2.12283153496"
       ]
      },
      {
       "output_type": "stream",
       "stream": "stdout",
       "text": [
        "\n"
       ]
      }
     ],
     "prompt_number": 6
    },
    {
     "cell_type": "code",
     "collapsed": false,
     "input": [
      "topKRecs = model.recommendProducts(789,10)\n",
      "print '\u7ed9\u7528\u6237userId\u63a8\u8350\u5176\u559c\u6b22\u7684item\uff1a'\n",
      "for rec in topKRecs:\n",
      "    print rec"
     ],
     "language": "python",
     "metadata": {},
     "outputs": [
      {
       "output_type": "stream",
       "stream": "stdout",
       "text": [
        "\u7ed9\u7528\u6237userId\u63a8\u8350\u5176\u559c\u6b22\u7684item\uff1a\n",
        "Rating(user=789, product=518, rating=6.268376526809111)\n",
        "Rating(user=789, product=640, rating=5.8853966778111255)\n",
        "Rating(user=789, product=156, rating=5.78667613801488)\n",
        "Rating(user=789, product=176, rating=5.784924278603432)\n",
        "Rating(user=789, product=56, rating=5.763652358598977)\n",
        "Rating(user=789, product=188, rating=5.756288745900021)\n",
        "Rating(user=789, product=92, rating=5.711183495630257)\n",
        "Rating(user=789, product=652, rating=5.577895864184191)\n",
        "Rating(user=789, product=182, rating=5.555886173235324)\n",
        "Rating(user=789, product=183, rating=5.548326062667082)\n"
       ]
      }
     ],
     "prompt_number": 7
    },
    {
     "cell_type": "code",
     "collapsed": false,
     "input": [
      "moviesForUser = ratings.groupBy(lambda x : x.user).mapValues(list).lookup(789)\n",
      "#print ratings.groupBy(lambda x : x.user).mapValues(list).lookup(789)\n",
      "#print ratings.groupBy(lambda x : x.user).map(lambda (x,y): (x, list(y))).lookup(789)\n",
      "#print moviesForUser\n",
      "\n",
      "print '\u7528\u6237\u5bf9%d\u90e8\u7535\u5f71\u8fdb\u884c\u4e86\u8bc4\u7ea7'%len(moviesForUser[0])\n",
      "print '\u6e90\u6570\u636e\u4e2d\u7528\u6237(userId=789)\u559c\u6b22\u7684\u7535\u5f71(item)\uff1a'\n",
      "for i in sorted(moviesForUser[0],key=lambda x : x.rating,reverse=True):\n",
      "    print i.product"
     ],
     "language": "python",
     "metadata": {},
     "outputs": [
      {
       "output_type": "stream",
       "stream": "stdout",
       "text": [
        "\u7528\u6237\u5bf933\u90e8\u7535\u5f71\u8fdb\u884c\u4e86\u8bc4\u7ea7\n",
        "\u6e90\u6570\u636e\u4e2d\u7528\u6237(userId=789)\u559c\u6b22\u7684\u7535\u5f71(item)\uff1a\n",
        "127\n",
        "475\n",
        "9\n",
        "50\n",
        "150\n",
        "276\n",
        "129\n",
        "100\n",
        "741\n",
        "1012\n",
        "93\n",
        "293\n",
        "181\n",
        "1008\n",
        "508\n",
        "1007\n",
        "124\n",
        "1161\n",
        "294\n",
        "1\n",
        "284\n",
        "1017\n",
        "111\n",
        "742\n",
        "248\n",
        "249\n",
        "591\n",
        "288\n",
        "762\n",
        "628\n",
        "137\n",
        "151\n",
        "286\n"
       ]
      }
     ],
     "prompt_number": 8
    },
    {
     "cell_type": "code",
     "collapsed": false,
     "input": [
      "movies = sc.textFile(\"/home/zz/Downloads//ml-100k/u.item\")\n",
      "titles = movies.map(lambda line: (int(line.split('|')[0]),line.split('|')[1])).collectAsMap()\n",
      "for i in range(1,10):\n",
      "    print titles[i]"
     ],
     "language": "python",
     "metadata": {},
     "outputs": [
      {
       "output_type": "stream",
       "stream": "stdout",
       "text": [
        "Toy Story (1995)\n",
        "GoldenEye (1995)\n",
        "Four Rooms (1995)\n",
        "Get Shorty (1995)\n",
        "Copycat (1995)\n",
        "Shanghai Triad (Yao a yao yao dao waipo qiao) (1995)\n",
        "Twelve Monkeys (1995)\n",
        "Babe (1995)\n",
        "Dead Man Walking (1995)\n"
       ]
      }
     ],
     "prompt_number": 19
    },
    {
     "cell_type": "code",
     "collapsed": false,
     "input": [
      "for i,rec in enumerate(topKRecs):\n",
      "    print 'rank:'+str(i)+' '+str(titles[rec.product])+':'+str(rec.rating)"
     ],
     "language": "python",
     "metadata": {},
     "outputs": [
      {
       "output_type": "stream",
       "stream": "stdout",
       "text": [
        "rank:0 Miller's Crossing (1990):6.26837652681\n",
        "rank:1 Cook the Thief His Wife & Her Lover, The (1989):5.88539667781\n",
        "rank:2 Reservoir Dogs (1992):5.78667613801\n",
        "rank:3 Aliens (1986):5.7849242786\n",
        "rank:4 Pulp Fiction (1994):5.7636523586\n",
        "rank:5 Full Metal Jacket (1987):5.7562887459\n",
        "rank:6 True Romance (1993):5.71118349563\n",
        "rank:7 Rosencrantz and Guildenstern Are Dead (1990):5.57789586418\n",
        "rank:8 GoodFellas (1990):5.55588617324\n",
        "rank:9 Alien (1979):5.54832606267\n"
       ]
      }
     ],
     "prompt_number": 20
    },
    {
     "cell_type": "code",
     "collapsed": false,
     "input": [
      "#\u8ba1\u7b97\u76f8\u4f3c\u5ea6\n",
      "import numpy as np\n",
      "def cosineSImilarity(x,y):\n",
      "    return np.dot(x,y)/(np.linalg.norm(x)*np.linalg.norm(y))\n",
      "testx = np.array([1.0,2.0,3.0])\n",
      "print cosineSImilarity(testx,testx)"
     ],
     "language": "python",
     "metadata": {},
     "outputs": [
      {
       "output_type": "stream",
       "stream": "stdout",
       "text": [
        "1.0\n"
       ]
      }
     ],
     "prompt_number": 21
    },
    {
     "cell_type": "code",
     "collapsed": false,
     "input": [
      "itemId = 567\n",
      "itemFactor = model.productFeatures().lookup(itemId)[0]\n",
      "print itemFactor\n",
      "\n",
      "#print model.productFeatures().collect()\n",
      "#print model.productFeatures().take(1)\n",
      "sims = model.productFeatures().map(lambda (id,factor):(id,cosineSImilarity(np.array(factor),\n",
      "             np.array(itemFactor))))\n",
      "\n",
      "sims.sortBy(lambda (x,y):y,ascending=False).take(10)"
     ],
     "language": "python",
     "metadata": {},
     "outputs": [
      {
       "output_type": "stream",
       "stream": "stdout",
       "text": [
        "array('d', [-0.5446882843971252, 0.4223857522010803, -0.2304448038339615, 0.05622006952762604, 0.1064964085817337, -0.6729910969734192, 0.18275555968284607, -0.5850275158882141, 0.2895814776420593, -0.3777216374874115, 0.32830920815467834, -0.3408588767051697, -0.12796543538570404, 0.35353952646255493, -0.28326842188835144, -0.8887122273445129, 0.6975210309028625, 1.6936246156692505, 0.9228438138961792, 0.4338214099407196, -0.795006275177002, 0.14251278340816498, 0.4904782772064209, -0.009763028472661972, -0.4717418849468231, -0.3547397255897522, -0.7802209854125977, 0.6499226093292236, 0.47279906272888184, 0.047389525920152664, 0.22293920814990997, 0.67717045545578, -0.3140946924686432, 0.3317899703979492, -0.5771247744560242, -0.5421034693717957, 0.3794703781604767, 0.15191692113876343, -0.1105046346783638, 0.4585952162742615, 0.7096146941184998, -0.4300141930580139, -0.13388264179229736, -0.05247511342167854, -0.022355789318680763, 0.004296945873647928, 0.6641462445259094, 0.7308294177055359, 0.5711376667022705, -1.343733310699463])\n"
       ]
      },
      {
       "metadata": {},
       "output_type": "pyout",
       "prompt_number": 22,
       "text": [
        "[(567, 1.0000000000000002),\n",
        " (563, 0.75282205015449566),\n",
        " (781, 0.70684006191176563),\n",
        " (771, 0.70589192452727512),\n",
        " (109, 0.70287146176902726),\n",
        " (1083, 0.70256580121204448),\n",
        " (968, 0.69693895439224784),\n",
        " (670, 0.69639280982240948),\n",
        " (853, 0.69477861889393189),\n",
        " (343, 0.69379174503665997)]"
       ]
      }
     ],
     "prompt_number": 22
    },
    {
     "cell_type": "code",
     "collapsed": false,
     "input": [
      "actual = moviesForUser[0][0]\n",
      "actualRating = actual.rating\n",
      "print '\u7528\u6237789\u5bf9\u7535\u5f711012\u7684\u5b9e\u9645\u8bc4\u7ea7',actualRating\n",
      "predictedRating = model.predict(789, actual.product)\n",
      "print '\u7528\u6237789\u5bf9\u7535\u5f711012\u7684\u9884\u6d4b\u8bc4\u7ea7',predictedRating\n",
      "squaredError = np.power(actualRating-predictedRating,2)\n",
      "print '\u5b9e\u9645\u8bc4\u7ea7\u4e0e\u9884\u6d4b\u8bc4\u7ea7\u7684MSE',squaredError"
     ],
     "language": "python",
     "metadata": {},
     "outputs": [
      {
       "output_type": "stream",
       "stream": "stdout",
       "text": [
        "\u7528\u6237789\u5bf9\u7535\u5f711012\u7684\u5b9e\u9645\u8bc4\u7ea7 4.0\n",
        "\u7528\u6237789\u5bf9\u7535\u5f711012\u7684\u9884\u6d4b\u8bc4\u7ea7"
       ]
      },
      {
       "output_type": "stream",
       "stream": "stdout",
       "text": [
        " 3.92538069563\n",
        "\u5b9e\u9645\u8bc4\u7ea7\u4e0e\u9884\u6d4b\u8bc4\u7ea7\u7684MSE 0.00556804058442\n"
       ]
      }
     ],
     "prompt_number": 23
    },
    {
     "cell_type": "code",
     "collapsed": false,
     "input": [
      "moviesForUser"
     ],
     "language": "python",
     "metadata": {},
     "outputs": [
      {
       "metadata": {},
       "output_type": "pyout",
       "prompt_number": 24,
       "text": [
        "[[Rating(user=789, product=1012, rating=4.0),\n",
        "  Rating(user=789, product=127, rating=5.0),\n",
        "  Rating(user=789, product=475, rating=5.0),\n",
        "  Rating(user=789, product=93, rating=4.0),\n",
        "  Rating(user=789, product=1161, rating=3.0),\n",
        "  Rating(user=789, product=286, rating=1.0),\n",
        "  Rating(user=789, product=293, rating=4.0),\n",
        "  Rating(user=789, product=9, rating=5.0),\n",
        "  Rating(user=789, product=50, rating=5.0),\n",
        "  Rating(user=789, product=294, rating=3.0),\n",
        "  Rating(user=789, product=181, rating=4.0),\n",
        "  Rating(user=789, product=1, rating=3.0),\n",
        "  Rating(user=789, product=1008, rating=4.0),\n",
        "  Rating(user=789, product=508, rating=4.0),\n",
        "  Rating(user=789, product=284, rating=3.0),\n",
        "  Rating(user=789, product=1017, rating=3.0),\n",
        "  Rating(user=789, product=137, rating=2.0),\n",
        "  Rating(user=789, product=111, rating=3.0),\n",
        "  Rating(user=789, product=742, rating=3.0),\n",
        "  Rating(user=789, product=248, rating=3.0),\n",
        "  Rating(user=789, product=249, rating=3.0),\n",
        "  Rating(user=789, product=1007, rating=4.0),\n",
        "  Rating(user=789, product=591, rating=3.0),\n",
        "  Rating(user=789, product=150, rating=5.0),\n",
        "  Rating(user=789, product=276, rating=5.0),\n",
        "  Rating(user=789, product=151, rating=2.0),\n",
        "  Rating(user=789, product=129, rating=5.0),\n",
        "  Rating(user=789, product=100, rating=5.0),\n",
        "  Rating(user=789, product=741, rating=5.0),\n",
        "  Rating(user=789, product=288, rating=3.0),\n",
        "  Rating(user=789, product=762, rating=3.0),\n",
        "  Rating(user=789, product=628, rating=3.0),\n",
        "  Rating(user=789, product=124, rating=4.0)]]"
       ]
      }
     ],
     "prompt_number": 24
    },
    {
     "cell_type": "code",
     "collapsed": false,
     "input": [
      "userProducts = ratings.map(lambda rating:(rating.user,rating.product))\n",
      "print '\u5b9e\u9645\u7684\u8bc4\u5206:',userProducts.take(5)\n",
      "\n",
      "#\u9884\u6d4b\u6240\u6709\u7528\u6237\u5bf9\u7535\u5f71\u7684\u76f8\u5e94\u8bc4\u5206\n",
      "print model.predictAll(userProducts).collect()[0]\n",
      "predictions = model.predictAll(userProducts).map(lambda rating:((rating.user,rating.product), rating.rating))\n",
      "print '\u9884\u6d4b\u7684\u8bc4\u5206:',predictions.take(5)\n",
      "\n",
      "ratingsAndPredictions = ratings.map(lambda rating:((rating.user,rating.product),rating.rating)).join(predictions)\n",
      "print '\u7ec4\u5408\u9884\u6d4b\u7684\u8bc4\u5206\u548c\u5b9e\u9645\u7684\u8bc4\u5206:',ratingsAndPredictions.take(5)\n",
      "\n",
      "MSE = ratingsAndPredictions.map(lambda ((x,y),(m,n)):np.power(m-n,2)).reduce(lambda x,y:x+y)/ratingsAndPredictions.count() \n",
      "print '\u6a21\u578b\u7684\u5747\u65b9\u8bef\u5dee:',MSE \n",
      "print '\u6a21\u578b\u7684\u5747\u65b9\u6839\u8bef\u5dee:',np.sqrt(MSE)"
     ],
     "language": "python",
     "metadata": {},
     "outputs": [
      {
       "output_type": "stream",
       "stream": "stdout",
       "text": [
        "\u5b9e\u9645\u7684\u8bc4\u5206: "
       ]
      },
      {
       "output_type": "stream",
       "stream": "stdout",
       "text": [
        "[(196, 242), (186, 302), (22, 377), (244, 51), (166, 346)]\n",
        "Rating(user=195, product=1084, rating=3.878232390224434)"
       ]
      },
      {
       "output_type": "stream",
       "stream": "stdout",
       "text": [
        "\n",
        "\u9884\u6d4b\u7684\u8bc4\u5206:"
       ]
      },
      {
       "output_type": "stream",
       "stream": "stdout",
       "text": [
        " [((195, 1084), 3.878232390224434), ((58, 1084), 4.01437015321693), ((541, 1084), 4.058731750919737), ((470, 1084), 3.1193165093982897), ((682, 1084), 2.0377986784249313)]\n",
        "\u7ec4\u5408\u9884\u6d4b\u7684\u8bc4\u5206\u548c\u5b9e\u9645\u7684\u8bc4\u5206:"
       ]
      },
      {
       "output_type": "stream",
       "stream": "stdout",
       "text": [
        " [((621, 577), (3.0, 3.036302234929543)), ((877, 727), (4.0, 3.939094154100829)), ((109, 365), (4.0, 4.181717890707242)), ((254, 622), (4.0, 3.6979729930496785)), ((720, 286), (5.0, 4.953690587672621))]\n",
        "\u6a21\u578b\u7684\u5747\u65b9\u8bef\u5dee:"
       ]
      },
      {
       "output_type": "stream",
       "stream": "stdout",
       "text": [
        " 0.0838080450522\n",
        "\u6a21\u578b\u7684\u5747\u65b9\u6839\u8bef\u5dee: 0.289496191775\n"
       ]
      }
     ],
     "prompt_number": 25
    },
    {
     "cell_type": "code",
     "collapsed": false,
     "input": [
      "#k\u503c\u5e73\u5747\u51c6\u786e\u7387\n",
      "def avgPrecisionK(actual, predicted, k): \n",
      "    if len(predicted) > k:\n",
      "        predK = predicted[:k]\n",
      "    else:\n",
      "        predK = predicted\n",
      "    score = 0.0\n",
      "    numHits = 0.0\n",
      "    for i,p in enumerate(predK):\n",
      "        if p in actual and p not in predK:\n",
      "            numHits = numHits + 1\n",
      "            score = score + numHits/(i+1)\n",
      "    if not actual:\n",
      "        return 1.0\n",
      "    else:\n",
      "        return score/min(len(actual),k)"
     ],
     "language": "python",
     "metadata": {},
     "outputs": [],
     "prompt_number": 26
    },
    {
     "cell_type": "code",
     "collapsed": false,
     "input": [
      "actualMovies = [rating.product for rating in moviesForUser[0]]\n",
      "predictMovies = [rating.product for rating in topKRecs]\n",
      "print '\u5b9e\u9645\u7684\u7535\u5f71\uff1a',actualMovies\n",
      "print '\u9884\u6d4b\u7684\u7535\u5f71\uff1a',predictMovies"
     ],
     "language": "python",
     "metadata": {},
     "outputs": [
      {
       "output_type": "stream",
       "stream": "stdout",
       "text": [
        "\u5b9e\u9645\u7684\u7535\u5f71\uff1a [1012, 127, 475, 93, 1161, 286, 293, 9, 50, 294, 181, 1, 1008, 508, 284, 1017, 137, 111, 742, 248, 249, 1007, 591, 150, 276, 151, 129, 100, 741, 288, 762, 628, 124]\n",
        "\u9884\u6d4b\u7684\u7535\u5f71\uff1a [518, 640, 156, 176, 56, 188, 92, 652, 182, 183]\n"
       ]
      }
     ],
     "prompt_number": 27
    },
    {
     "cell_type": "code",
     "collapsed": false,
     "input": [
      "MAP10 = avgPrecisionK(actualMovies,predictMovies,10)\n",
      "print MAP10"
     ],
     "language": "python",
     "metadata": {},
     "outputs": [
      {
       "output_type": "stream",
       "stream": "stdout",
       "text": [
        "0.0\n"
       ]
      }
     ],
     "prompt_number": 28
    },
    {
     "cell_type": "code",
     "collapsed": false,
     "input": [
      "itemFactors = model.productFeatures().map(lambda (id,factor):factor).collect()\n",
      "itemMatrix = np.array(itemFactors)\n",
      "print itemMatrix\n",
      "print itemMatrix.shape"
     ],
     "language": "python",
     "metadata": {},
     "outputs": [
      {
       "output_type": "stream",
       "stream": "stdout",
       "text": [
        "[[  5.74328184e-01   1.10025525e+00  -9.52864587e-01 ...,   1.93588209e+00\n",
        "    3.33682448e-01  -9.35206175e-01]\n",
        " [  4.90896732e-01   6.38890028e-01  -3.12985778e-02 ...,   1.52629733e+00\n",
        "    3.74601483e-01  -6.98239565e-01]\n",
        " [ -1.90009594e-01   8.14290226e-01  -2.24336162e-01 ...,   5.63001931e-01\n",
        "    9.45419595e-02  -9.49340820e-01]\n",
        " ..., \n",
        " [ -4.51667868e-02   1.02220282e-01  -7.55428150e-02 ...,  -1.86754819e-02\n",
        "    7.45283812e-02   3.88468690e-02]\n",
        " [  1.17969863e-01   2.41948679e-01  -1.76275871e-03 ...,   2.26368502e-01\n",
        "   -8.84921476e-02   6.94889799e-02]\n",
        " [ -2.39393577e-01   3.11466426e-01  -3.75834741e-02 ...,  -1.33836642e-01\n",
        "   -4.84349102e-01  -2.87384003e-01]]\n",
        "(1682, 50)\n"
       ]
      }
     ],
     "prompt_number": 29
    },
    {
     "cell_type": "code",
     "collapsed": false,
     "input": [
      "#\u4fbf\u4e8e\u540e\u9762\u8fdb\u884cmap\u8ba1\u7b97\u7684\u65f6\u5019\u4f7f\u6240\u6709map\u90fd\u6709\u6548\uff0c\u8fd9\u91cc\u5728\u5b9e\u9645\u5f53\u4e2d\u7684\u610f\u601d\u662f\u628a\u6570\u636e\u5e7f\u64ad\u5230\u4efb\u4f55\u4e00\u4e2a\u8282\u70b9\n",
      "imBroadcast = sc.broadcast(itemMatrix)"
     ],
     "language": "python",
     "metadata": {},
     "outputs": [],
     "prompt_number": 30
    },
    {
     "cell_type": "code",
     "collapsed": false,
     "input": [
      "userVector = model.userFeatures().map(lambda (userId,array):(userId,np.array(array)))\n",
      "#print userVector.collect()[0][1].shape\n",
      "userVector = userVector.map(lambda (userId,x): (userId,imBroadcast.value.dot((np.array(x).transpose()))))\n",
      "#print userVector.collect()[0][1].shape\n",
      "userVectorId = userVector.map(lambda (userId,x) : (userId,[(xx,i) for i,xx in enumerate(x.tolist())]))\n",
      "#print userVectorId.collect()[0]\n",
      "sortUserVectorId = userVectorId.map(lambda (userId,x):(userId,sorted(x,key=lambda x:x[0],reverse=True)))\n",
      "sortUserVectorRecId = sortUserVectorId.map(lambda (userId,x): (userId,[xx[1] for xx in x]))\n",
      "#print sortUserVectorRecId.take(2)\n",
      "sortUserVectorRecId.count()"
     ],
     "language": "python",
     "metadata": {},
     "outputs": [
      {
       "metadata": {},
       "output_type": "pyout",
       "prompt_number": 31,
       "text": [
        "943"
       ]
      }
     ],
     "prompt_number": 31
    },
    {
     "cell_type": "code",
     "collapsed": false,
     "input": [
      "userMovies = ratings.map(lambda rating: (rating.user,rating.product)).groupBy(lambda (x,y):x)\n",
      "print userMovies.take(3)\n",
      "userMovies = userMovies.map(lambda (userId,x):(userId, [xx[1] for xx in x] ))\n",
      "#print userMovies.take(1)\n",
      "#allAPK=sortUserVectorRecId.join(userMovies).map(lambda (userId,(predicted, actual)):(userId,avgPrecisionK(actual,predicted,10)))\n",
      "#print allAPK.map(lambda (x,y):y).reduce(lambda x,y:x+y)/sortUserVectorRecId.count()\n",
      "allAPK=sortUserVectorRecId.join(userMovies).map(lambda (userId,(predicted, actual)):avgPrecisionK(actual,predicted,2000))\n",
      "# print allAPK.take(10)\n",
      "print allAPK.reduce(lambda x,y:x+y)/allAPK.count()"
     ],
     "language": "python",
     "metadata": {},
     "outputs": [
      {
       "output_type": "stream",
       "stream": "stdout",
       "text": [
        "[(1, <pyspark.resultiterable.ResultIterable object at 0x7fd299e2a690>), (2, <pyspark.resultiterable.ResultIterable object at 0x7fd299ecc210>), (3, <pyspark.resultiterable.ResultIterable object at 0x7fd299ecc790>)]\n",
        "0.0"
       ]
      },
      {
       "output_type": "stream",
       "stream": "stdout",
       "text": [
        "\n"
       ]
      }
     ],
     "prompt_number": 32
    },
    {
     "cell_type": "code",
     "collapsed": false,
     "input": [
      "from pyspark.mllib.evaluation import RegressionMetrics\n",
      "from pyspark.mllib.evaluation import RankingMetrics\n",
      "predictedAndTrue = ratingsAndPredictions.map(lambda ((userId,product),(predicted, actual))\n",
      "      :(predicted,actual))\n",
      "print predictedAndTrue.take(5)\n",
      "regressionMetrics = RegressionMetrics(predictedAndTrue)\n",
      "print \"\u5747\u65b9\u8bef\u5dee = %f\"%regressionMetrics.meanSquaredError\n",
      "print \"\u5747\u65b9\u6839\u8bef\u5dee = %f\"% regressionMetrics.rootMeanSquaredError"
     ],
     "language": "python",
     "metadata": {},
     "outputs": [
      {
       "output_type": "stream",
       "stream": "stdout",
       "text": [
        "[(3.0, 3.036302234929543), (4.0, 3.939094154100829), (4.0, 4.181717890707242), (4.0, 3.6979729930496785), (5.0, 4.953690587672621)]\n",
        "\u5747\u65b9\u8bef\u5dee = 0.083808"
       ]
      },
      {
       "output_type": "stream",
       "stream": "stdout",
       "text": [
        "\n",
        "\u5747\u65b9\u6839\u8bef\u5dee = 0.289496\n"
       ]
      }
     ],
     "prompt_number": 33
    },
    {
     "cell_type": "code",
     "collapsed": false,
     "input": [
      "sortedLabels = sortUserVectorRecId.join(userMovies).map(lambda (userId,(predicted, actual)):(predicted,actual))\n",
      "# print sortedLabels.take(1)\n",
      "rankMetrics = RankingMetrics(sortedLabels)\n",
      "print \"Mean Average Precision = %f\" % rankMetrics.meanAveragePrecision\n",
      "print \"Mean Average Precision(at K=10) = %f\" % rankMetrics.precisionAt(10)"
     ],
     "language": "python",
     "metadata": {},
     "outputs": [
      {
       "output_type": "stream",
       "stream": "stdout",
       "text": [
        "Mean Average Precision = 0.116679\n",
        "Mean Average Precision(at K=10) = 0.131389"
       ]
      },
      {
       "output_type": "stream",
       "stream": "stdout",
       "text": [
        "\n"
       ]
      }
     ],
     "prompt_number": 34
    },
    {
     "cell_type": "code",
     "collapsed": false,
     "input": [],
     "language": "python",
     "metadata": {},
     "outputs": []
    }
   ],
   "metadata": {}
  }
 ]
}