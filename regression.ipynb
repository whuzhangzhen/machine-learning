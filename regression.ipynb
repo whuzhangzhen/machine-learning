{
 "metadata": {
  "name": "",
  "signature": "sha256:6fcc4ac2e34b4c55bebe30947e721f9cf1cb1f8eda8552a59107b180d18adfe5"
 },
 "nbformat": 3,
 "nbformat_minor": 0,
 "worksheets": [
  {
   "cells": [
    {
     "cell_type": "code",
     "collapsed": false,
     "input": [
      "log_targets = records.map(lambda r : np.log(float(r[-1]))).collect() \n",
      "plt.hist(log_targets, bins = 40, color ='lightblue', normed =True) \n",
      "fig = plt.gcf()\n",
      "fig.set_size_inches(12,6)\n",
      "plt.show()"
     ],
     "language": "python",
     "metadata": {},
     "outputs": [
      {
       "metadata": {},
       "output_type": "display_data",
       "png": "[encoded data removed]",
       "text": [
        "<matplotlib.figure.Figure at 0x7f76fa32f150>"
       ]
      }
     ],
     "prompt_number": 27
    },
    {
     "cell_type": "code",
     "collapsed": false,
     "input": [
      "records.cache()"
     ],
     "language": "python",
     "metadata": {},
     "outputs": [
      {
       "metadata": {},
       "output_type": "pyout",
       "prompt_number": 3,
       "text": [
        "PythonRDD[4] at RDD at PythonRDD.scala:48"
       ]
      }
     ],
     "prompt_number": 3
    },
    {
     "cell_type": "code",
     "collapsed": false,
     "input": [
      "def get_mapping(rdd, idx):\n",
      "    return rdd.map(lambda fields: fields[idx]).distinct().zipWithIndex().collectAsMap()"
     ],
     "language": "python",
     "metadata": {},
     "outputs": [],
     "prompt_number": 4
    },
    {
     "cell_type": "code",
     "collapsed": false,
     "input": [
      "print '\u7b2c\u4e09\u4e2a\u7279\u5f81\u7684\u7c7b\u522b\u7f16\u7801\uff1a %s '%get_mapping(records,2) "
     ],
     "language": "python",
     "metadata": {},
     "outputs": [
      {
       "output_type": "stream",
       "stream": "stdout",
       "text": [
        "\u7b2c\u4e09\u4e2a\u7279\u5f81\u7684\u7c7b\u522b\u7f16\u7801\uff1a {u'1': 0, u'3': 1, u'2': 2, u'4': 3} \n"
       ]
      }
     ],
     "prompt_number": 5
    },
    {
     "cell_type": "code",
     "collapsed": false,
     "input": [
      "mappings = [get_mapping(records, i) for i in range(2,10)]   #\u5bf9\u7c7b\u578b\u53d8\u91cf\u7684\u5217\uff08\u7b2c2~9\u5217\uff09\u5e94\u7528\u6620\u5c04\u51fd\u6570\n",
      "print '\u7c7b\u522b\u7279\u5f81\u7684\u7f16\u7801\u5b57\u5178:',mappings\n",
      "cat_len = sum(map(len,[i for i in mappings]))        #\u7c7b\u522b\u7279\u5f81\u7684\u4e2a\u6570                 \n",
      "#cat_len = sum(map(len, mappings))\n",
      "#print map(len,mappings)\n",
      "\n",
      "num_len = len(records.first()[11:15])                      #\u6570\u503c\u7279\u5f81\u7684\u4e2a\u6570\n",
      "total_len = num_len+cat_len                                  #\u6240\u6709\u7279\u5f81\u7684\u4e2a\u6570\n",
      "print '\u7c7b\u522b\u7279\u5f81\u7684\u4e2a\u6570\uff1a %d'% cat_len\n",
      "print '\u6570\u503c\u7279\u5f81\u7684\u4e2a\u6570\uff1a %d'% num_len\n",
      "print '\u6240\u6709\u7279\u5f81\u7684\u4e2a\u6570:\uff1a%d' % total_len"
     ],
     "language": "python",
     "metadata": {},
     "outputs": [
      {
       "output_type": "stream",
       "stream": "stdout",
       "text": [
        "\u7c7b\u522b\u7279\u5f81\u7684\u7f16\u7801\u5b57\u5178: [{u'1': 0, u'3': 1, u'2': 2, u'4': 3}, {u'1': 0, u'0': 1}, {u'11': 0, u'10': 1, u'12': 2, u'1': 3, u'3': 4, u'2': 5, u'5': 6, u'4': 7, u'7': 8, u'6': 9, u'9': 10, u'8': 11}, {u'20': 0, u'21': 1, u'22': 2, u'23': 3, u'1': 4, u'0': 5, u'3': 6, u'2': 7, u'5': 8, u'4': 9, u'7': 10, u'6': 11, u'9': 12, u'8': 13, u'11': 14, u'10': 15, u'13': 16, u'12': 17, u'15': 18, u'14': 19, u'17': 20, u'16': 21, u'19': 22, u'18': 23}, {u'1': 0, u'0': 1}, {u'1': 0, u'0': 1, u'3': 2, u'2': 3, u'5': 4, u'4': 5, u'6': 6}, {u'1': 0, u'0': 1}, {u'1': 0, u'3': 1, u'2': 2, u'4': 3}]\n",
        "\u7c7b\u522b\u7279\u5f81\u7684\u4e2a\u6570\uff1a 57"
       ]
      },
      {
       "output_type": "stream",
       "stream": "stdout",
       "text": [
        "\n",
        "\u6570\u503c\u7279\u5f81\u7684\u4e2a\u6570\uff1a 4\n",
        "\u6240\u6709\u7279\u5f81\u7684\u4e2a\u6570:\uff1a61\n"
       ]
      }
     ],
     "prompt_number": 6
    },
    {
     "cell_type": "code",
     "collapsed": false,
     "input": [
      "from pyspark.mllib.regression import LabeledPoint\n",
      "import numpy as np\n",
      "\n",
      "def extract_features(record): \n",
      "    cat_vec = np.zeros(cat_len) \n",
      "    step = 0\n",
      "    for i,raw_feature in enumerate(record[2:9]):\n",
      "        dict_code = mappings[i]\n",
      "        index = dict_code[raw_feature]\n",
      "        cat_vec[index+step] = 1\n",
      "        step = step+len(dict_code)\n",
      "    num_vec = np.array([float(raw_feature) for raw_feature in record[10:14]])\n",
      "    return np.concatenate((cat_vec, num_vec))\n",
      "\n",
      "def extract_label(record):\n",
      "    return float(record[-1])"
     ],
     "language": "python",
     "metadata": {},
     "outputs": [],
     "prompt_number": 12
    },
    {
     "cell_type": "code",
     "collapsed": false,
     "input": [
      "data = records.map(lambda point: LabeledPoint(extract_label(point),extract_features(point)))\n",
      "print data\n",
      "first_point = data.first()\n",
      "#print first_point\n",
      "\n",
      "print '\u539f\u59cb\u7279\u5f81\u5411\u91cf:' +str(first[2:])\n",
      "print '\u6807\u7b7e:' + str(first_point.label)\n",
      "print '\u5bf9\u7c7b\u522b\u7279\u5f81\u8fdb\u884c\u72ec\u70ed\u7f16\u7801\u4e4b\u540e\u7684\u7279\u5f81\u5411\u91cf: \\n' + str(first_point.features)\n",
      "print '\u5bf9\u7c7b\u522b\u7279\u5f81\u8fdb\u884c\u72ec\u70ed\u7f16\u7801\u4e4b\u540e\u7684\u7279\u5f81\u5411\u91cf\u957f\u5ea6:' + str(len(first_point.features))"
     ],
     "language": "python",
     "metadata": {},
     "outputs": [
      {
       "output_type": "stream",
       "stream": "stdout",
       "text": [
        "PythonRDD[57] at RDD at PythonRDD.scala:48\n",
        "\u539f\u59cb\u7279\u5f81\u5411\u91cf:[u'1', u'0', u'1', u'0', u'0', u'6', u'0', u'1', u'0.24', u'0.2879', u'0.81', u'0', u'3', u'13', u'16']"
       ]
      },
      {
       "output_type": "stream",
       "stream": "stdout",
       "text": [
        "\n",
        "\u6807\u7b7e:16.0\n",
        "\u5bf9\u7c7b\u522b\u7279\u5f81\u8fdb\u884c\u72ec\u70ed\u7f16\u7801\u4e4b\u540e\u7684\u7279\u5f81\u5411\u91cf: \n",
        "[1.0,0.0,0.0,0.0,0.0,1.0,0.0,0.0,0.0,1.0,0.0,0.0,0.0,0.0,0.0,0.0,0.0,0.0,0.0,0.0,0.0,0.0,0.0,1.0,0.0,0.0,0.0,0.0,0.0,0.0,0.0,0.0,0.0,0.0,0.0,0.0,0.0,0.0,0.0,0.0,0.0,0.0,0.0,1.0,0.0,0.0,0.0,0.0,0.0,0.0,1.0,0.0,1.0,0.0,0.0,0.0,0.0,0.24,0.2879,0.81,0.0]\n",
        "\u5bf9\u7c7b\u522b\u7279\u5f81\u8fdb\u884c\u72ec\u70ed\u7f16\u7801\u4e4b\u540e\u7684\u7279\u5f81\u5411\u91cf\u957f\u5ea6:61\n"
       ]
      }
     ],
     "prompt_number": 13
    },
    {
     "cell_type": "code",
     "collapsed": false,
     "input": [
      "def extract_features_dt(record):\n",
      "    return np.array(map(float, record[2:14]))\n",
      "data_dt = records.map(lambda point: LabeledPoint(extract_label(point), extract_features_dt(point)))\n",
      "first_point_dt = data_dt.first()\n",
      "print '\u51b3\u7b56\u6811\u7279\u5f81\u5411\u91cf: '+str(first_point_dt.features)\n",
      "print '\u51b3\u7b56\u6811\u7279\u5f81\u5411\u91cf\u957f\u5ea6: '+str(len(first_point_dt.features))\n"
     ],
     "language": "python",
     "metadata": {},
     "outputs": [
      {
       "output_type": "stream",
       "stream": "stdout",
       "text": [
        "\u51b3\u7b56\u6811\u7279\u5f81\u5411\u91cf: [1.0,0.0,1.0,0.0,0.0,6.0,0.0,1.0,0.24,0.2879,0.81,0.0]\n",
        "\u51b3\u7b56\u6811\u7279\u5f81\u5411\u91cf\u957f\u5ea6: 12\n"
       ]
      }
     ],
     "prompt_number": 14
    },
    {
     "cell_type": "code",
     "collapsed": false,
     "input": [
      "from pyspark.mllib.regression import LinearRegressionWithSGD\n",
      "from pyspark.mllib.tree import DecisionTree\n",
      "help(LinearRegressionWithSGD.train)"
     ],
     "language": "python",
     "metadata": {},
     "outputs": [
      {
       "output_type": "stream",
       "stream": "stdout",
       "text": [
        "Help on method train in module pyspark.mllib.regression:\n",
        "\n",
        "train(cls, data, iterations=100, step=1.0, miniBatchFraction=1.0, initialWeights=None, regParam=0.0, regType=None, intercept=False, validateData=True, convergenceTol=0.001) method of __builtin__.type instance\n",
        "    Train a linear regression model using Stochastic Gradient\n",
        "    Descent (SGD). This solves the least squares regression\n",
        "    formulation\n",
        "    \n",
        "        f(weights) = 1/(2n) ||A weights - y||^2\n",
        "    \n",
        "    which is the mean squared error. Here the data matrix has n rows,\n",
        "    and the input RDD holds the set of rows of A, each with its\n",
        "    corresponding right hand side label y.\n",
        "    See also the documentation for the precise formulation.\n",
        "    \n",
        "    :param data:\n",
        "      The training data, an RDD of LabeledPoint.\n",
        "    :param iterations:\n",
        "      The number of iterations.\n",
        "      (default: 100)\n",
        "    :param step:\n",
        "      The step parameter used in SGD.\n",
        "      (default: 1.0)\n",
        "    :param miniBatchFraction:\n",
        "      Fraction of data to be used for each SGD iteration.\n",
        "      (default: 1.0)\n",
        "    :param initialWeights:\n",
        "      The initial weights.\n",
        "      (default: None)\n",
        "    :param regParam:\n",
        "      The regularizer parameter.\n",
        "      (default: 0.0)\n",
        "    :param regType:\n",
        "      The type of regularizer used for training our model.\n",
        "      Supported values:\n",
        "    \n",
        "        - \"l1\" for using L1 regularization\n",
        "        - \"l2\" for using L2 regularization\n",
        "        - None for no regularization (default)\n",
        "    :param intercept:\n",
        "      Boolean parameter which indicates the use or not of the\n",
        "      augmented representation for training data (i.e., whether bias\n",
        "      features are activated or not).\n",
        "      (default: False)\n",
        "    :param validateData:\n",
        "      Boolean parameter which indicates if the algorithm should\n",
        "      validate data before training.\n",
        "      (default: True)\n",
        "    :param convergenceTol:\n",
        "      A condition which decides iteration termination.\n",
        "      (default: 0.001)\n",
        "    \n",
        "    .. versionadded:: 0.9.0\n",
        "\n"
       ]
      }
     ],
     "prompt_number": 15
    },
    {
     "cell_type": "code",
     "collapsed": false,
     "input": [
      "help(DecisionTree.trainRegressor)"
     ],
     "language": "python",
     "metadata": {},
     "outputs": [
      {
       "output_type": "stream",
       "stream": "stdout",
       "text": [
        "Help on method trainRegressor in module pyspark.mllib.tree:\n",
        "\n",
        "trainRegressor(cls, data, categoricalFeaturesInfo, impurity='variance', maxDepth=5, maxBins=32, minInstancesPerNode=1, minInfoGain=0.0) method of __builtin__.type instance\n",
        "    Train a decision tree model for regression.\n",
        "    \n",
        "    :param data:\n",
        "      Training data: RDD of LabeledPoint. Labels are real numbers.\n",
        "    :param categoricalFeaturesInfo:\n",
        "      Map storing arity of categorical features. An entry (n -> k)\n",
        "      indicates that feature n is categorical with k categories\n",
        "      indexed from 0: {0, 1, ..., k-1}.\n",
        "    :param impurity:\n",
        "      Criterion used for information gain calculation.\n",
        "      The only supported value for regression is \"variance\".\n",
        "      (default: \"variance\")\n",
        "    :param maxDepth:\n",
        "      Maximum depth of tree (e.g. depth 0 means 1 leaf node, depth 1\n",
        "      means 1 internal node + 2 leaf nodes).\n",
        "      (default: 5)\n",
        "    :param maxBins:\n",
        "      Number of bins used for finding splits at each node.\n",
        "      (default: 32)\n",
        "    :param minInstancesPerNode:\n",
        "      Minimum number of instances required at child nodes to create\n",
        "      the parent split.\n",
        "      (default: 1)\n",
        "    :param minInfoGain:\n",
        "      Minimum info gain required to create a split.\n",
        "      (default: 0.0)\n",
        "    :return:\n",
        "      DecisionTreeModel.\n",
        "    \n",
        "    Example usage:\n",
        "    \n",
        "    >>> from pyspark.mllib.regression import LabeledPoint\n",
        "    >>> from pyspark.mllib.tree import DecisionTree\n",
        "    >>> from pyspark.mllib.linalg import SparseVector\n",
        "    >>>\n",
        "    >>> sparse_data = [\n",
        "    ...     LabeledPoint(0.0, SparseVector(2, {0: 0.0})),\n",
        "    ...     LabeledPoint(1.0, SparseVector(2, {1: 1.0})),\n",
        "    ...     LabeledPoint(0.0, SparseVector(2, {0: 0.0})),\n",
        "    ...     LabeledPoint(1.0, SparseVector(2, {1: 2.0}))\n",
        "    ... ]\n",
        "    >>>\n",
        "    >>> model = DecisionTree.trainRegressor(sc.parallelize(sparse_data), {})\n",
        "    >>> model.predict(SparseVector(2, {1: 1.0}))\n",
        "    1.0\n",
        "    >>> model.predict(SparseVector(2, {1: 0.0}))\n",
        "    0.0\n",
        "    >>> rdd = sc.parallelize([[0.0, 1.0], [0.0, 0.0]])\n",
        "    >>> model.predict(rdd).collect()\n",
        "    [1.0, 0.0]\n",
        "    \n",
        "    .. versionadded:: 1.1.0\n",
        "\n"
       ]
      }
     ],
     "prompt_number": 16
    },
    {
     "cell_type": "code",
     "collapsed": false,
     "input": [
      "linear_model = LinearRegressionWithSGD.train(data, iterations=10, step=0.1, intercept =False)\n",
      "true_vs_predicted = data.map(lambda point:(point.label,linear_model.predict(point.features)))\n",
      "print '\u7ebf\u6027\u56de\u5f52\u6a21\u578b\u5bf9\u524d5\u4e2a\u6837\u672c\u7684\u9884\u6d4b\u503c: '+ str(true_vs_predicted.take(5))"
     ],
     "language": "python",
     "metadata": {},
     "outputs": [
      {
       "output_type": "stream",
       "stream": "stdout",
       "text": [
        "\u7ebf\u6027\u56de\u5f52\u6a21\u578b\u5bf9\u524d5\u4e2a\u6837\u672c\u7684\u9884\u6d4b\u503c: [(16.0, 117.89250386724842), (40.0, 116.22496123192109), (32.0, 116.02369145779234), (13.0, 115.67088016754431), (1.0, 115.56315650834314)]\n"
       ]
      },
      {
       "output_type": "stream",
       "stream": "stderr",
       "text": [
        "/usr/lib/spark/spark-2.0.2-bin-hadoop2.7/python/pyspark/mllib/regression.py:281: UserWarning: Deprecated in 2.0.0. Use ml.regression.LinearRegression.\n",
        "  warnings.warn(\"Deprecated in 2.0.0. Use ml.regression.LinearRegression.\")\n"
       ]
      }
     ],
     "prompt_number": 17
    },
    {
     "cell_type": "code",
     "collapsed": false,
     "input": [
      "dt_model = DecisionTree.trainRegressor(data_dt,{})\n",
      "preds = dt_model.predict(data_dt.map(lambda p: p.features))\n",
      "actual = data.map(lambda p:p.label)\n",
      "true_vs_predicted_dt = actual.zip(preds)\n",
      "print '\u51b3\u7b56\u6811\u56de\u5f52\u6a21\u578b\u5bf9\u524d5\u4e2a\u6837\u672c\u7684\u9884\u6d4b\u503c: '+str(true_vs_predicted_dt.take(5)) \n",
      "print '\u51b3\u7b56\u6811\u6a21\u578b\u7684\u6df1\u5ea6: ' + str(dt_model.depth()) \n",
      "print '\u51b3\u7b56\u6811\u6a21\u578b\u7684\u53f6\u5b50\u8282\u70b9\u4e2a\u6570: '+str(dt_model.numNodes())"
     ],
     "language": "python",
     "metadata": {},
     "outputs": [
      {
       "output_type": "stream",
       "stream": "stdout",
       "text": [
        "\u51b3\u7b56\u6811\u56de\u5f52\u6a21\u578b\u5bf9\u524d5\u4e2a\u6837\u672c\u7684\u9884\u6d4b\u503c: [(16.0, 54.913223140495866), (40.0, 54.913223140495866), (32.0, 53.171052631578945), (13.0, 14.284023668639053), (1.0, 14.284023668639053)]\n",
        "\u51b3\u7b56\u6811\u6a21\u578b\u7684\u6df1\u5ea6: 5\n",
        "\u51b3\u7b56\u6811\u6a21\u578b\u7684\u53f6\u5b50\u8282\u70b9\u4e2a\u6570: 63\n"
       ]
      }
     ],
     "prompt_number": 18
    },
    {
     "cell_type": "code",
     "collapsed": false,
     "input": [
      "#\u8bc4\u4ef7\u6307\u68071\uff1a\u5747\u65b9\u8bef\u5dee\n",
      "def squared_error(actual, pred): \n",
      "    return (pred-actual)**2 \n"
     ],
     "language": "python",
     "metadata": {},
     "outputs": [],
     "prompt_number": 20
    },
    {
     "cell_type": "code",
     "collapsed": false,
     "input": [
      "#\u8bc4\u4ef7\u6307\u68072\uff1a\u5e73\u5747\u7edd\u5bf9\u8bef\u5dee\n",
      "def abs_error(actual,pred):\n",
      "    return np.abs(pred-actual)"
     ],
     "language": "python",
     "metadata": {},
     "outputs": [],
     "prompt_number": 21
    },
    {
     "cell_type": "code",
     "collapsed": false,
     "input": [
      "#\u8bc4\u4ef7\u6307\u68073\uff1a\u5747\u65b9\u6839\u5bf9\u6570\u8bef\u5dee\n",
      "def squared_log_error(pred, actual): \n",
      "    return (np.log(pred+1)-np.log(actual+1))**2"
     ],
     "language": "python",
     "metadata": {},
     "outputs": [],
     "prompt_number": 22
    },
    {
     "cell_type": "code",
     "collapsed": false,
     "input": [
      "mse = true_vs_predicted.map(lambda (t, p): squared_error(t, p)).mean() \n",
      "mae = true_vs_predicted.map(lambda (t, p): abs_error(t, p)).mean() \n",
      "rmsle = np.sqrt(true_vs_predicted.map(lambda (t, p): squared_log_error(t, p)).mean()) \n",
      "print 'Linear Model - Mean Squared Error: %2.4f' % mse \n",
      "print 'Linear Model - Mean Absolute Error: %2.4f' % mae \n",
      "print 'Linear Model - Root Mean Squared Log Error: %2.4f' % rmsle"
     ],
     "language": "python",
     "metadata": {},
     "outputs": [
      {
       "output_type": "stream",
       "stream": "stdout",
       "text": [
        "Linear Model - Mean Squared Error: 30679.4539\n",
        "Linear Model - Mean Absolute Error: 130.6429\n",
        "Linear Model - Root Mean Squared Log Error: 1.4653\n"
       ]
      }
     ],
     "prompt_number": 23
    },
    {
     "cell_type": "code",
     "collapsed": false,
     "input": [
      "mse_dt = true_vs_predicted_dt.map(lambda (t, p): squared_error(t, p)).mean()\n",
      "mae_dt = true_vs_predicted_dt.map(lambda (t, p): abs_error(t, p)).mean()\n",
      "rmsle_dt = np.sqrt(true_vs_predicted_dt.map(lambda (t, p): squared_log_error(t, p)).mean())\n",
      "print 'Decision Tree - Mean Squared Error: %2.4f' % mse_dt\n",
      "print 'Decision Tree - Mean Absolute Error: %2.4f' % mae_dt\n",
      "print 'Decision Tree - Root Mean Squared Log Error: %2.4f' %rmsle_dt"
     ],
     "language": "python",
     "metadata": {},
     "outputs": [
      {
       "output_type": "stream",
       "stream": "stdout",
       "text": [
        "Decision Tree - Mean Squared Error: 11560.7978\n",
        "Decision Tree - Mean Absolute Error: 71.0969\n",
        "Decision Tree - Root Mean Squared Log Error: 0.6259\n"
       ]
      }
     ],
     "prompt_number": 24
    },
    {
     "cell_type": "code",
     "collapsed": false,
     "input": [
      "%matplotlib inline\n",
      "import matplotlib\n",
      "from matplotlib.pyplot import hist\n",
      "import numpy as np \n",
      "import matplotlib.pyplot as plt \n",
      "\n",
      "targets = records.map(lambda r: float(r[-1])).collect() \n",
      "hist(targets, bins=40, color='lightblue', normed=True) \n",
      "fig = matplotlib.pyplot.gcf() \n",
      "fig.set_size_inches(12, 6)\n",
      "plt.show()"
     ],
     "language": "python",
     "metadata": {},
     "outputs": [
      {
       "metadata": {},
       "output_type": "display_data",
       "png": "[encoded data removed]",
       "text": [
        "<matplotlib.figure.Figure at 0x7f76fa334a90>"
       ]
      }
     ],
     "prompt_number": 25
    },
    {
     "cell_type": "code",
     "collapsed": false,
     "input": [
      "log_targets = records.map(lambda r : np.log(float(r[-1]))).collect() \n",
      "plt.hist(log_targets, bins = 40, color ='lightblue', normed =True) \n",
      "fig = plt.gcf()\n",
      "fig.set_size_inches(12,6)\n",
      "plt.show()"
     ],
     "language": "python",
     "metadata": {},
     "outputs": [
      {
       "metadata": {},
       "output_type": "display_data",
       "png": "[encoded data removed]",
       "text": [
        "<matplotlib.figure.Figure at 0x7f76eee61810>"
       ]
      }
     ],
     "prompt_number": 28
    },
    {
     "cell_type": "code",
     "collapsed": false,
     "input": [
      "sqrt_targets = records.map(lambda r: np.sqrt(float(r[-1]))).collect() \n",
      "plt.hist(sqrt_targets, bins=40, color='lightblue', normed=True) \n",
      "fig = matplotlib.pyplot.gcf() \n",
      "fig.set_size_inches(12, 6) "
     ],
     "language": "python",
     "metadata": {},
     "outputs": [
      {
       "metadata": {},
       "output_type": "display_data",
       "png": "[encoded data removed]",
       "text": [
        "<matplotlib.figure.Figure at 0x7f76f1b0d910>"
       ]
      }
     ],
     "prompt_number": 29
    },
    {
     "cell_type": "code",
     "collapsed": false,
     "input": [
      "data_log = data.map(lambda lp:LabeledPoint(np.log(lp.label),lp.features)) \n",
      "model_log =LinearRegressionWithSGD.train(data_log, iterations=10, step=0.1) \n",
      "true_vs_predicted_log = data_log.map(lambda p:(np.exp(p.label),np.exp(model_log.predict(p.features))))\n",
      "\n",
      "#\u8ba1\u7b97\u6a21\u578b\u7684MSE,MAE,RMSLE\n",
      "mse_log = true_vs_predicted_log.map(lambda(t, p): squared_error(t,p)).mean() \n",
      "mae_log = true_vs_predicted_log.map(lambda(t, p): abs_error(t, p)).mean() \n",
      "rmsle_log = np.sqrt(true_vs_predicted_log.map(lambda(t, p): squared_log_error(t, p)).mean())\n",
      "\n",
      "print'Linear Model \u2014\u2014 Mean Squared Error:%2.4f'% mse_log \n",
      "print'Linear Model \u2014\u2014 Mean Absolue Error:%2.4f'% mae_log \n",
      "print'Linear Model \u2014\u2014 Root Mean Squared Log Error:%2.4f'% rmsle_log \n",
      "print'Linear Model \u2014\u2014 Non log-transformed predictions:\\n'+ str(true_vs_predicted.take(3))\n",
      "print'Linear Model \u2014\u2014 Log-transformed predictions:\\n'+ str(true_vs_predicted_log.take(3))"
     ],
     "language": "python",
     "metadata": {},
     "outputs": [
      {
       "output_type": "stream",
       "stream": "stdout",
       "text": [
        "Linear Model \u2014\u2014 Mean Squared Error:50685.5559\n",
        "Linear Model \u2014\u2014 Mean Absolue Error:155.2955\n",
        "Linear Model \u2014\u2014 Root Mean Squared Log Error:1.5411\n",
        "Linear Model \u2014\u2014 Non log-transformed predictions:\n",
        "[(16.0, 117.89250386724842), (40.0, 116.22496123192109), (32.0, 116.02369145779234)]\n",
        "Linear Model \u2014\u2014 Log-transformed predictions:\n",
        "[(15.999999999999998, 28.080291845456212), (40.0, 26.959480191001763), (32.0, 26.654725629458007)]"
       ]
      },
      {
       "output_type": "stream",
       "stream": "stdout",
       "text": [
        "\n"
       ]
      }
     ],
     "prompt_number": 30
    },
    {
     "cell_type": "code",
     "collapsed": false,
     "input": [
      "data_dt_log = data_dt.map(lambda lp:LabeledPoint(np.log(lp.label), lp.features)) \n",
      "dt_model_log = DecisionTree.trainRegressor(data_dt_log,{}) \n",
      "preds_log = dt_model_log.predict(data_dt_log.map(lambda p:p.features)) \n",
      "actual_log = data_dt_log.map(lambda p: p.label) \n",
      "true_vs_predicted_dt_log = actual_log.zip(preds_log).map(lambda(t,p):(np.exp(t), np.exp(p)))\n",
      "\n",
      "#\u8ba1\u7b97\u6a21\u578b\u7684MSE,MAE,RMSLE\n",
      "mse_log_dt = true_vs_predicted_dt_log.map(lambda(t, p): squared_error(t, p)).mean() \n",
      "mae_log_dt = true_vs_predicted_dt_log.map(lambda(t, p): abs_error(t,p)).mean() \n",
      "rmsle_log_dt = np.sqrt(true_vs_predicted_dt_log.map(lambda(t, p): \n",
      "squared_log_error(t, p)).mean())\n",
      "\n",
      "print'Decision Tree \u2014\u2014 Mean Squared Error:%2.4f'% mse_log_dt \n",
      "print'Decision Tree \u2014\u2014 Mean Absolue Error:%2.4f'% mae_log_dt \n",
      "print'Decision Tree \u2014\u2014 Root Mean Squared Log Error:%2.4f'% rmsle_log_dt \n",
      "print'Decision Tree \u2014\u2014 Non log-transformed predictions:\\n'+ str(true_vs_predicted_dt.take(3))\n",
      "print'Decision Tree \u2014\u2014 Log-transformed predictions:\\n'+str(true_vs_predicted_dt_log.take(3))"
     ],
     "language": "python",
     "metadata": {},
     "outputs": [
      {
       "output_type": "stream",
       "stream": "stdout",
       "text": [
        "Decision Tree \u2014\u2014 Mean Squared Error:14781.5760\n",
        "Decision Tree \u2014\u2014 Mean Absolue Error:76.4131\n",
        "Decision Tree \u2014\u2014 Root Mean Squared Log Error:0.6406\n",
        "Decision Tree \u2014\u2014 Non log-transformed predictions:\n",
        "[(16.0, 54.913223140495866), (40.0, 54.913223140495866), (32.0, 53.171052631578945)]"
       ]
      },
      {
       "output_type": "stream",
       "stream": "stdout",
       "text": [
        "\n",
        "Decision Tree \u2014\u2014 Log-transformed predictions:\n",
        "[(15.999999999999998, 37.530779787154508), (40.0, 37.530779787154508), (32.0, 7.2797070993907127)]"
       ]
      },
      {
       "output_type": "stream",
       "stream": "stdout",
       "text": [
        "\n"
       ]
      }
     ],
     "prompt_number": 33
    },
    {
     "cell_type": "code",
     "collapsed": false,
     "input": [
      "train_test_data_split = data.randomSplit([0.8,0.2],123) \n",
      "train = train_test_data_split[0] \n",
      "test = train_test_data_split[1]\n",
      "print '\u6d4b\u8bd5\u96c6\u7684\u6837\u672c\u6570:',test.count()\n",
      "print '\u8bad\u7ec3\u96c6\u7684\u6837\u672c\u6570:',train.count()"
     ],
     "language": "python",
     "metadata": {},
     "outputs": [
      {
       "output_type": "stream",
       "stream": "stdout",
       "text": [
        "\u6d4b\u8bd5\u96c6\u7684\u6837\u672c\u6570: "
       ]
      },
      {
       "output_type": "stream",
       "stream": "stdout",
       "text": [
        "3519\n",
        "\u8bad\u7ec3\u96c6\u7684\u6837\u672c\u6570: "
       ]
      },
      {
       "output_type": "stream",
       "stream": "stdout",
       "text": [
        "13860\n"
       ]
      }
     ],
     "prompt_number": 34
    },
    {
     "cell_type": "code",
     "collapsed": false,
     "input": [
      "train_test_data_dt_split = data_dt.randomSplit([0.8,0.2],123) \n",
      "train_dt = train_test_data_dt_split[0] \n",
      "test_dt = train_test_data_dt_split[1]\n"
     ],
     "language": "python",
     "metadata": {},
     "outputs": [],
     "prompt_number": 36
    },
    {
     "cell_type": "code",
     "collapsed": false,
     "input": [
      "def evaluate(train, test, iterations, step, regParam, regType, intercept):\n",
      "    model =LinearRegressionWithSGD.train(train, iterations, step, regParam=regParam, \n",
      "                                         regType=regType,intercept=intercept)\n",
      "    testLabel_vs_testPrediction = test.map(lambda point:(point.label, model.predict(point.features)))\n",
      "    rmsle = np.sqrt(testLabel_vs_testPrediction.map(lambda(t,p):squared_log_error(t,p)).mean())\n",
      "    return rmsle"
     ],
     "language": "python",
     "metadata": {},
     "outputs": [],
     "prompt_number": 37
    },
    {
     "cell_type": "code",
     "collapsed": false,
     "input": [
      "params = [1, 5, 10, 20, 50, 100]\n",
      "metrics = [evaluate(train, test, param, 0.01, 0.0, 'l2', False) for param in params]\n",
      "print params\n",
      "print metrics"
     ],
     "language": "python",
     "metadata": {},
     "outputs": [
      {
       "output_type": "stream",
       "stream": "stdout",
       "text": [
        "[1, 5, 10, 20, 50, 100]\n",
        "[2.9277426253063688, 2.0686960660660358, 1.7923057993100715, 1.5824456276044223, 1.4133086933422696, 1.3628214314466085]\n"
       ]
      }
     ],
     "prompt_number": 38
    },
    {
     "cell_type": "code",
     "collapsed": false,
     "input": [
      "plt.plot(params, metrics) \n",
      "fig = matplotlib.pyplot.gcf() \n",
      "fig.set_size_inches(12, 6) \n",
      "plt.xscale('log')\n",
      "plt.show()"
     ],
     "language": "python",
     "metadata": {},
     "outputs": [
      {
       "metadata": {},
       "output_type": "display_data",
       "png": "[encoded data removed]",
       "text": [
        "<matplotlib.figure.Figure at 0x7f76eea19a50>"
       ]
      }
     ],
     "prompt_number": 39
    },
    {
     "cell_type": "code",
     "collapsed": false,
     "input": [
      "params=[0.01,0.025,0.05,0.1,0.5,1.0] \n",
      "metrics =[evaluate(train, test,10,param,0.0,'l2',False)for param in params]\n",
      "for i in range(len(params)):\n",
      "    print'the rmsle:%f when step :%f'%(metrics[i],params[i])\n",
      "\n",
      "#\u7ed8\u5236\u6b65\u957f\u4e0eRMSLE\u7684\u5173\u7cfb\u56fe\uff1a\n",
      "plt.plot(params, metrics) \n",
      "fig = matplotlib.pyplot.gcf() \n",
      "fig.set_size_inches(12, 6) \n",
      "plt.xscale('log')\n",
      "plt.xlabel('step')\n",
      "plt.ylabel('RMSLE')\n",
      "plt.show()"
     ],
     "language": "python",
     "metadata": {},
     "outputs": [
      {
       "output_type": "stream",
       "stream": "stdout",
       "text": [
        "the rmsle:1.792306 when step :0.010000\n",
        "the rmsle:1.412819 when step :0.025000\n",
        "the rmsle:1.363416 when step :0.050000\n",
        "the rmsle:1.430868 when step :0.100000\n",
        "the rmsle:1.398153 when step :0.500000\n",
        "the rmsle:nan when step :1.000000\n"
       ]
      },
      {
       "metadata": {},
       "output_type": "display_data",
       "png": "[encoded data removed]",
       "text": [
        "<matplotlib.figure.Figure at 0x7f76f1af1f90>"
       ]
      }
     ],
     "prompt_number": 40
    },
    {
     "cell_type": "code",
     "collapsed": false,
     "input": [
      "params=[0.0,0.01,0.1,1.0,5.0,10.0,20.0]\n",
      "metrics =[evaluate(train, test,10,0.1, param,'l2',False) for param in params]\n",
      "for i in range(len(params)):\n",
      "    print'the rmsle:%f when regParam :%f'%(metrics[i],params[i])\n",
      "\n",
      "#\u7ed8\u5236L2\u6b63\u5219\u5316\u7cfb\u6570\u4e0eRMSLE\u7684\u5173\u7cfb\u56fe\uff1a\n",
      "plt.plot(params, metrics)\n",
      "fig = matplotlib.pyplot.gcf()\n",
      "fig.set_size_inches(12, 8)\n",
      "plt.xscale('log')\n",
      "plt.xlabel('regParam')\n",
      "plt.ylabel('RMSLE')\n",
      "plt.show()\n"
     ],
     "language": "python",
     "metadata": {},
     "outputs": [
      {
       "output_type": "stream",
       "stream": "stdout",
       "text": [
        "the rmsle:1.430868 when regParam :0.000000\n",
        "the rmsle:1.430272 when regParam :0.010000\n",
        "the rmsle:1.425029 when regParam :0.100000\n",
        "the rmsle:1.383483 when regParam :1.000000\n",
        "the rmsle:1.378524 when regParam :5.000000\n",
        "the rmsle:1.532362 when regParam :10.000000\n",
        "the rmsle:1.847412 when regParam :20.000000\n"
       ]
      },
      {
       "metadata": {},
       "output_type": "display_data",
       "png": "[encoded data removed]",
       "text": [
        "<matplotlib.figure.Figure at 0x7f76ee9ee290>"
       ]
      }
     ],
     "prompt_number": 41
    },
    {
     "cell_type": "code",
     "collapsed": false,
     "input": [
      "params=[0.0,0.01,0.1,1.0,10.0,100.0,1000.0]\n",
      "metrics =[evaluate(train, test,10,0.1, param,'l1',False) for param in params]\n",
      "for i in range(len(params)):\n",
      "    print'the rmsle:%f when regParam :%f'%(metrics[i],params[i])\n",
      "\n",
      "#\u7ed8\u5236L2\u6b63\u5219\u5316\u7cfb\u6570\u4e0eRMSLE\u7684\u5173\u7cfb\u56fe\uff1a\n",
      "plt.plot(params, metrics)\n",
      "fig = matplotlib.pyplot.gcf()\n",
      "fig.set_size_inches(12, 8)\n",
      "plt.xscale('log')\n",
      "plt.xlabel('regParam')\n",
      "plt.ylabel('RMSLE')\n",
      "plt.show()"
     ],
     "language": "python",
     "metadata": {},
     "outputs": [
      {
       "output_type": "stream",
       "stream": "stdout",
       "text": [
        "the rmsle:1.430868 when regParam :0.000000\n",
        "the rmsle:1.430836 when regParam :0.010000\n",
        "the rmsle:1.430550 when regParam :0.100000\n",
        "the rmsle:1.427901 when regParam :1.000000\n",
        "the rmsle:1.403829 when regParam :10.000000\n",
        "the rmsle:1.764793 when regParam :100.000000\n",
        "the rmsle:4.813575 when regParam :1000.000000\n"
       ]
      },
      {
       "metadata": {},
       "output_type": "display_data",
       "png": "[encoded data removed]",
       "text": [
        "<matplotlib.figure.Figure at 0x7f76eee94590>"
       ]
      }
     ],
     "prompt_number": 42
    },
    {
     "cell_type": "code",
     "collapsed": false,
     "input": [
      "model_l1 = LinearRegressionWithSGD.train(train,10,0.1,regParam=1.0, regType='l1', intercept=False) \n",
      "model_l2 = LinearRegressionWithSGD.train(train,10,0.1,regParam=1.0, regType='l2', intercept=False) \n",
      "model_l1_10 = LinearRegressionWithSGD.train(train,10,0.1,regParam=10.0, regType='l1', intercept=False) \n",
      "model_l2_10 = LinearRegressionWithSGD.train(train,10,0.1,regParam=10.0, regType='l2', intercept=False) \n",
      "model_l1_100 = LinearRegressionWithSGD.train(train,10,0.1,regParam=100.0, regType='l1', intercept=False) \n",
      "model_l2_100 = LinearRegressionWithSGD.train(train,10,0.1,regParam=100.0, regType='l2', intercept=False)\n",
      "\n",
      "print'L1 (1.0) number of zero weights:'+ str(sum(model_l1.weights.array == 0))\n",
      "print'L2 (1.0) number of zero weights:'+ str(sum(model_l2.weights.array == 0))\n",
      "print'L1 (10.0) number of zeros weights:'+ str(sum(model_l1_10.weights.array == 0))\n",
      "print'L2 (10.0) number of zeros weights:'+ str(sum(model_l2_10.weights.array == 0))\n",
      "print'L1 (100.0) number of zeros weights:'+ str(sum(model_l1_100.weights.array == 0))\n",
      "print'L2 (100.0) number of zeros weights:'+ str(sum(model_l2_100.weights.array == 0))"
     ],
     "language": "python",
     "metadata": {},
     "outputs": [
      {
       "output_type": "stream",
       "stream": "stdout",
       "text": [
        "L1 (1.0) number of zero weights:4\n",
        "L2 (1.0) number of zero weights:4\n",
        "L1 (10.0) number of zeros weights:33\n",
        "L2 (10.0) number of zeros weights:4\n",
        "L1 (100.0) number of zeros weights:58\n",
        "L2 (100.0) number of zeros weights:4\n"
       ]
      }
     ],
     "prompt_number": 43
    },
    {
     "cell_type": "code",
     "collapsed": false,
     "input": [
      "arams=[False, True]\n",
      "metrics =[evaluate(train, test, 10, 0.1, 1.0,'l2', param) for param in params]\n",
      "for i in range(len(params)):\n",
      "    print'the rmsle:%f when intercept:%f'%(metrics[i],params[i])\n",
      "\n",
      "#\u7ed8\u5236L2\u6b63\u5219\u5316\u7cfb\u6570\u4e0eRMSLE\u7684\u5173\u7cfb\u56fe\uff1a\n",
      "plt.bar(params, metrics, color='r')\n",
      "fig = matplotlib.pyplot.gcf()\n",
      "fig.set_size_inches(12, 8)\n",
      "plt.xlabel('intercept')\n",
      "plt.ylabel('RMSLE')\n",
      "plt.show()"
     ],
     "language": "python",
     "metadata": {},
     "outputs": [
      {
       "output_type": "stream",
       "stream": "stdout",
       "text": [
        "the rmsle:1.383483 when intercept:0.000000\n",
        "the rmsle:1.412042 when intercept:0.010000\n",
        "the rmsle:1.412042 when intercept:0.100000\n",
        "the rmsle:1.412042 when intercept:1.000000\n",
        "the rmsle:1.412042 when intercept:10.000000\n",
        "the rmsle:1.412042 when intercept:100.000000\n",
        "the rmsle:1.412042 when intercept:1000.000000\n"
       ]
      },
      {
       "metadata": {},
       "output_type": "display_data",
       "png": "[encoded data removed]",
       "text": [
        "<matplotlib.figure.Figure at 0x7f76eec51710>"
       ]
      }
     ],
     "prompt_number": 44
    },
    {
     "cell_type": "code",
     "collapsed": false,
     "input": [
      "def evaluate_dt(train, test, maxDepth, maxBins): \n",
      "    model =DecisionTree.trainRegressor(train,{},impurity='variance', maxDepth=maxDepth, maxBins=maxBins)\n",
      "    predictions = model.predict(test.map(lambda point: point.features)) \n",
      "    actual = test.map(lambda point: point.label) \n",
      "    actual_vs_predictions = actual.zip(predictions) \n",
      "    rmsle = np.sqrt(actual_vs_predictions.map(lambda(t, p): squared_log_error(t,p)).mean())\n",
      "    return rmsle"
     ],
     "language": "python",
     "metadata": {},
     "outputs": [],
     "prompt_number": 45
    },
    {
     "cell_type": "code",
     "collapsed": false,
     "input": [
      "params=[1,2,3,4,5,10,20] \n",
      "metrics =[evaluate_dt(train_dt, test_dt, param,32) for param in params]\n",
      "for i in range(len(params)):    \n",
      "    print'the rmsle:%f when maxDepth :%d'%(metrics[i],params[i])\n",
      "\n",
      "#\u7ed8\u5236\u6811\u7684\u6700\u5927\u6df1\u5ea6\u4e0eRMSLE\u7684\u5173\u7cfb\u56fe\uff1a\n",
      "plt.plot(params, metrics)\n",
      "fig = matplotlib.pyplot.gcf()\n",
      "fig.set_size_inches(12, 8)\n",
      "plt.xlabel('maxDepth')\n",
      "plt.ylabel('RMSLE')\n",
      "plt.show()"
     ],
     "language": "python",
     "metadata": {},
     "outputs": [
      {
       "output_type": "stream",
       "stream": "stdout",
       "text": [
        "the rmsle:0.988565 when maxDepth :1\n",
        "the rmsle:0.891484 when maxDepth :2\n",
        "the rmsle:0.790196 when maxDepth :3\n",
        "the rmsle:0.719665 when maxDepth :4\n",
        "the rmsle:0.614479 when maxDepth :5\n",
        "the rmsle:0.404762 when maxDepth :10\n",
        "the rmsle:0.438548 when maxDepth :20\n"
       ]
      },
      {
       "metadata": {},
       "output_type": "display_data",
       "png": "[encoded data removed]",
       "text": [
        "<matplotlib.figure.Figure at 0x7f76eef84c50>"
       ]
      }
     ],
     "prompt_number": 46
    },
    {
     "cell_type": "code",
     "collapsed": false,
     "input": [
      "params=[2,4,8,16,32,64,100] \n",
      "metrics =[evaluate_dt(train_dt, test_dt,5, param) for param in params]\n",
      "for i in range(len(params)):    \n",
      "    print'the rmsle:%f when maxBins :%d'%(metrics[i],params[i]) \n",
      "\n",
      "#\u7ed8\u5236\u6811\u7684\u6700\u5927\u5212\u5206\u6570\u4e0eRMSLE\u7684\u5173\u7cfb\u56fe\uff1a\n",
      "plt.plot(params, metrics)\n",
      "fig = matplotlib.pyplot.gcf()\n",
      "fig.set_size_inches(12, 8)\n",
      "plt.xlabel('maxDepth')\n",
      "plt.ylabel('RMSLE')\n",
      "plt.show()"
     ],
     "language": "python",
     "metadata": {},
     "outputs": [
      {
       "output_type": "stream",
       "stream": "stdout",
       "text": [
        "the rmsle:1.248665 when maxBins :2\n",
        "the rmsle:0.781817 when maxBins :4\n",
        "the rmsle:0.720439 when maxBins :8\n",
        "the rmsle:0.627735 when maxBins :16\n",
        "the rmsle:0.614479 when maxBins :32\n",
        "the rmsle:0.615821 when maxBins :64\n",
        "the rmsle:0.615821 when maxBins :100\n"
       ]
      },
      {
       "metadata": {},
       "output_type": "display_data",
       "png": "[encoded data removed]",
       "text": [
        "<matplotlib.figure.Figure at 0x7f76f1ab9e50>"
       ]
      }
     ],
     "prompt_number": 47
    },
    {
     "cell_type": "code",
     "collapsed": false,
     "input": [],
     "language": "python",
     "metadata": {},
     "outputs": []
    }
   ],
   "metadata": {}
  }
 ]
}